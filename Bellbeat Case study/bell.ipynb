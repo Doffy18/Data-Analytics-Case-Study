{
 "cells": [
  {
   "cell_type": "code",
   "execution_count": 110,
   "id": "26a64a54",
   "metadata": {},
   "outputs": [],
   "source": [
    "import pandas as pd \n",
    "import numpy as np \n",
    "import matplotlib.pyplot as plt \n",
    "import seaborn as sns \n"
   ]
  },
  {
   "cell_type": "markdown",
   "id": "973996a2",
   "metadata": {},
   "source": [
    "Reading the data into a DataFrame"
   ]
  },
  {
   "cell_type": "code",
   "execution_count": 111,
   "id": "5a775740",
   "metadata": {},
   "outputs": [],
   "source": [
    "daily = pd.read_csv('C:/Users/hp/Documents/Data Science/Bellbeat Case study/Data/dailyActivity_merged.csv')\n",
    "Sheart = pd.read_csv('C:/Users/hp/Documents/Data Science/Bellbeat Case study/Data/heartrate_seconds_merged.csv')\n",
    "Hcalories = pd.read_csv('C:/Users/hp/Documents/Data Science/Bellbeat Case study/Data/hourlyCalories_merged.csv')\n",
    "Hintensity = pd.read_csv('C:/Users/hp/Documents/Data Science/Bellbeat Case study/Data/hourlySteps_merged.csv')\n",
    "Mmet = pd.read_csv('C:/Users/hp/Documents/Data Science/Bellbeat Case study/Data/minuteMETsNarrow_merged.csv')\n",
    "Msleep = pd.read_csv('C:/Users/hp/Documents/Data Science/Bellbeat Case study/Data/minuteSleep_merged.csv')\n",
    "Dsleep = pd.read_csv('C:/Users/hp/Documents/Data Science/Bellbeat Case study/Data/sleepDay_merged.csv')\n",
    "weight = pd.read_csv('C:/Users/hp/Documents/Data Science/Bellbeat Case study/Data/weightLogInfo_merged.csv')"
   ]
  },
  {
   "cell_type": "markdown",
   "id": "c8ab0dbb",
   "metadata": {},
   "source": [
    "# Data cleaning \n",
    "We will perforing data cleaning for checking and removing any redundent data or null values, fixing incorrect format if any, ensuring same category dataframes can have same or nearby number of values for important features like Id, Date etc for future cross analysis."
   ]
  },
  {
   "cell_type": "markdown",
   "id": "d9f79057",
   "metadata": {},
   "source": [
    "### Daily Activity\n"
   ]
  },
  {
   "cell_type": "code",
   "execution_count": 112,
   "id": "88c80570",
   "metadata": {},
   "outputs": [
    {
     "data": {
      "text/html": [
       "<div>\n",
       "<style scoped>\n",
       "    .dataframe tbody tr th:only-of-type {\n",
       "        vertical-align: middle;\n",
       "    }\n",
       "\n",
       "    .dataframe tbody tr th {\n",
       "        vertical-align: top;\n",
       "    }\n",
       "\n",
       "    .dataframe thead th {\n",
       "        text-align: right;\n",
       "    }\n",
       "</style>\n",
       "<table border=\"1\" class=\"dataframe\">\n",
       "  <thead>\n",
       "    <tr style=\"text-align: right;\">\n",
       "      <th></th>\n",
       "      <th>Id</th>\n",
       "      <th>ActivityDate</th>\n",
       "      <th>TotalSteps</th>\n",
       "      <th>TotalDistance</th>\n",
       "      <th>LoggedActivityDistance</th>\n",
       "      <th>VeryActiveDistance</th>\n",
       "      <th>ModeatelyActiveDistance</th>\n",
       "      <th>LightActiveDistance</th>\n",
       "      <th>SedentaryActivityDistance</th>\n",
       "      <th>VeryActiveMinutes</th>\n",
       "      <th>FairlyActiveMinutes</th>\n",
       "      <th>LightlyActiveMinutes</th>\n",
       "      <th>SedentaryMinutes</th>\n",
       "      <th>Calories</th>\n",
       "    </tr>\n",
       "  </thead>\n",
       "  <tbody>\n",
       "    <tr>\n",
       "      <th>0</th>\n",
       "      <td>1503960366</td>\n",
       "      <td>04-12-2016</td>\n",
       "      <td>13162</td>\n",
       "      <td>8.5</td>\n",
       "      <td>0.0</td>\n",
       "      <td>1.9</td>\n",
       "      <td>0.6</td>\n",
       "      <td>6.1</td>\n",
       "      <td>0.0</td>\n",
       "      <td>25</td>\n",
       "      <td>13</td>\n",
       "      <td>328</td>\n",
       "      <td>728</td>\n",
       "      <td>1985</td>\n",
       "    </tr>\n",
       "    <tr>\n",
       "      <th>1</th>\n",
       "      <td>1503960366</td>\n",
       "      <td>4-13-2016</td>\n",
       "      <td>10735</td>\n",
       "      <td>7.0</td>\n",
       "      <td>0.0</td>\n",
       "      <td>1.6</td>\n",
       "      <td>0.7</td>\n",
       "      <td>4.7</td>\n",
       "      <td>0.0</td>\n",
       "      <td>21</td>\n",
       "      <td>19</td>\n",
       "      <td>217</td>\n",
       "      <td>776</td>\n",
       "      <td>1797</td>\n",
       "    </tr>\n",
       "    <tr>\n",
       "      <th>2</th>\n",
       "      <td>1503960366</td>\n",
       "      <td>4-14-2016</td>\n",
       "      <td>10460</td>\n",
       "      <td>6.7</td>\n",
       "      <td>0.0</td>\n",
       "      <td>2.4</td>\n",
       "      <td>0.4</td>\n",
       "      <td>3.9</td>\n",
       "      <td>0.0</td>\n",
       "      <td>30</td>\n",
       "      <td>11</td>\n",
       "      <td>181</td>\n",
       "      <td>1218</td>\n",
       "      <td>1776</td>\n",
       "    </tr>\n",
       "  </tbody>\n",
       "</table>\n",
       "</div>"
      ],
      "text/plain": [
       "           Id ActivityDate  TotalSteps  TotalDistance  LoggedActivityDistance  \\\n",
       "0  1503960366   04-12-2016       13162            8.5                     0.0   \n",
       "1  1503960366    4-13-2016       10735            7.0                     0.0   \n",
       "2  1503960366    4-14-2016       10460            6.7                     0.0   \n",
       "\n",
       "   VeryActiveDistance  ModeatelyActiveDistance  LightActiveDistance  \\\n",
       "0                 1.9                      0.6                  6.1   \n",
       "1                 1.6                      0.7                  4.7   \n",
       "2                 2.4                      0.4                  3.9   \n",
       "\n",
       "   SedentaryActivityDistance  VeryActiveMinutes  FairlyActiveMinutes  \\\n",
       "0                        0.0                 25                   13   \n",
       "1                        0.0                 21                   19   \n",
       "2                        0.0                 30                   11   \n",
       "\n",
       "   LightlyActiveMinutes  SedentaryMinutes  Calories  \n",
       "0                   328               728      1985  \n",
       "1                   217               776      1797  \n",
       "2                   181              1218      1776  "
      ]
     },
     "execution_count": 112,
     "metadata": {},
     "output_type": "execute_result"
    }
   ],
   "source": [
    "daily.head(3)"
   ]
  },
  {
   "cell_type": "code",
   "execution_count": 113,
   "id": "e9abb608",
   "metadata": {},
   "outputs": [
    {
     "name": "stdout",
     "output_type": "stream",
     "text": [
      "<class 'pandas.core.frame.DataFrame'>\n",
      "RangeIndex: 940 entries, 0 to 939\n",
      "Data columns (total 14 columns):\n",
      " #   Column                     Non-Null Count  Dtype  \n",
      "---  ------                     --------------  -----  \n",
      " 0   Id                         940 non-null    int64  \n",
      " 1   ActivityDate               940 non-null    object \n",
      " 2   TotalSteps                 940 non-null    int64  \n",
      " 3   TotalDistance              940 non-null    float64\n",
      " 4   LoggedActivityDistance     940 non-null    float64\n",
      " 5   VeryActiveDistance         940 non-null    float64\n",
      " 6   ModeatelyActiveDistance    940 non-null    float64\n",
      " 7   LightActiveDistance        940 non-null    float64\n",
      " 8   SedentaryActivityDistance  940 non-null    float64\n",
      " 9   VeryActiveMinutes          940 non-null    int64  \n",
      " 10  FairlyActiveMinutes        940 non-null    int64  \n",
      " 11  LightlyActiveMinutes       940 non-null    int64  \n",
      " 12  SedentaryMinutes           940 non-null    int64  \n",
      " 13  Calories                   940 non-null    int64  \n",
      "dtypes: float64(6), int64(7), object(1)\n",
      "memory usage: 102.9+ KB\n"
     ]
    }
   ],
   "source": [
    "daily.info()"
   ]
  },
  {
   "cell_type": "code",
   "execution_count": 114,
   "id": "43df6971",
   "metadata": {},
   "outputs": [
    {
     "data": {
      "text/plain": [
       "0"
      ]
     },
     "execution_count": 114,
     "metadata": {},
     "output_type": "execute_result"
    }
   ],
   "source": [
    "daily.duplicated().sum()"
   ]
  },
  {
   "cell_type": "code",
   "execution_count": 115,
   "id": "3d6f6849",
   "metadata": {},
   "outputs": [
    {
     "data": {
      "text/plain": [
       "Id                           0\n",
       "ActivityDate                 0\n",
       "TotalSteps                   0\n",
       "TotalDistance                0\n",
       "LoggedActivityDistance       0\n",
       "VeryActiveDistance           0\n",
       "ModeatelyActiveDistance      0\n",
       "LightActiveDistance          0\n",
       "SedentaryActivityDistance    0\n",
       "VeryActiveMinutes            0\n",
       "FairlyActiveMinutes          0\n",
       "LightlyActiveMinutes         0\n",
       "SedentaryMinutes             0\n",
       "Calories                     0\n",
       "dtype: int64"
      ]
     },
     "execution_count": 115,
     "metadata": {},
     "output_type": "execute_result"
    }
   ],
   "source": [
    "daily.isnull().sum()"
   ]
  },
  {
   "cell_type": "code",
   "execution_count": 116,
   "id": "49c76808",
   "metadata": {},
   "outputs": [
    {
     "data": {
      "text/plain": [
       "31"
      ]
     },
     "execution_count": 116,
     "metadata": {},
     "output_type": "execute_result"
    }
   ],
   "source": [
    "daily['ActivityDate'].nunique()"
   ]
  },
  {
   "cell_type": "code",
   "execution_count": 117,
   "id": "dfe1a3de",
   "metadata": {},
   "outputs": [
    {
     "data": {
      "text/plain": [
       "33"
      ]
     },
     "execution_count": 117,
     "metadata": {},
     "output_type": "execute_result"
    }
   ],
   "source": [
    "daily['Id'].nunique()"
   ]
  },
  {
   "cell_type": "code",
   "execution_count": 118,
   "id": "322c8c6a",
   "metadata": {},
   "outputs": [],
   "source": [
    "daily['ActivityDate'] = pd.to_datetime(daily['ActivityDate'])\n",
    "\n",
    "daily['Month'] = daily['ActivityDate'].dt.month\n",
    "daily['Day'] = daily['ActivityDate'].dt.day\n",
    "daily = daily.drop(columns=['ActivityDate'])\n",
    "\n"
   ]
  },
  {
   "cell_type": "code",
   "execution_count": 119,
   "id": "5398ca9a",
   "metadata": {},
   "outputs": [
    {
     "data": {
      "text/html": [
       "<div>\n",
       "<style scoped>\n",
       "    .dataframe tbody tr th:only-of-type {\n",
       "        vertical-align: middle;\n",
       "    }\n",
       "\n",
       "    .dataframe tbody tr th {\n",
       "        vertical-align: top;\n",
       "    }\n",
       "\n",
       "    .dataframe thead th {\n",
       "        text-align: right;\n",
       "    }\n",
       "</style>\n",
       "<table border=\"1\" class=\"dataframe\">\n",
       "  <thead>\n",
       "    <tr style=\"text-align: right;\">\n",
       "      <th></th>\n",
       "      <th>Id</th>\n",
       "      <th>TotalSteps</th>\n",
       "      <th>TotalDistance</th>\n",
       "      <th>LoggedActivityDistance</th>\n",
       "      <th>VeryActiveDistance</th>\n",
       "      <th>ModeatelyActiveDistance</th>\n",
       "      <th>LightActiveDistance</th>\n",
       "      <th>SedentaryActivityDistance</th>\n",
       "      <th>VeryActiveMinutes</th>\n",
       "      <th>FairlyActiveMinutes</th>\n",
       "      <th>LightlyActiveMinutes</th>\n",
       "      <th>SedentaryMinutes</th>\n",
       "      <th>Calories</th>\n",
       "      <th>Month</th>\n",
       "      <th>Day</th>\n",
       "    </tr>\n",
       "  </thead>\n",
       "  <tbody>\n",
       "    <tr>\n",
       "      <th>0</th>\n",
       "      <td>1503960366</td>\n",
       "      <td>13162</td>\n",
       "      <td>8.5</td>\n",
       "      <td>0.0</td>\n",
       "      <td>1.9</td>\n",
       "      <td>0.6</td>\n",
       "      <td>6.1</td>\n",
       "      <td>0.0</td>\n",
       "      <td>25</td>\n",
       "      <td>13</td>\n",
       "      <td>328</td>\n",
       "      <td>728</td>\n",
       "      <td>1985</td>\n",
       "      <td>4</td>\n",
       "      <td>12</td>\n",
       "    </tr>\n",
       "    <tr>\n",
       "      <th>1</th>\n",
       "      <td>1503960366</td>\n",
       "      <td>10735</td>\n",
       "      <td>7.0</td>\n",
       "      <td>0.0</td>\n",
       "      <td>1.6</td>\n",
       "      <td>0.7</td>\n",
       "      <td>4.7</td>\n",
       "      <td>0.0</td>\n",
       "      <td>21</td>\n",
       "      <td>19</td>\n",
       "      <td>217</td>\n",
       "      <td>776</td>\n",
       "      <td>1797</td>\n",
       "      <td>4</td>\n",
       "      <td>13</td>\n",
       "    </tr>\n",
       "    <tr>\n",
       "      <th>2</th>\n",
       "      <td>1503960366</td>\n",
       "      <td>10460</td>\n",
       "      <td>6.7</td>\n",
       "      <td>0.0</td>\n",
       "      <td>2.4</td>\n",
       "      <td>0.4</td>\n",
       "      <td>3.9</td>\n",
       "      <td>0.0</td>\n",
       "      <td>30</td>\n",
       "      <td>11</td>\n",
       "      <td>181</td>\n",
       "      <td>1218</td>\n",
       "      <td>1776</td>\n",
       "      <td>4</td>\n",
       "      <td>14</td>\n",
       "    </tr>\n",
       "  </tbody>\n",
       "</table>\n",
       "</div>"
      ],
      "text/plain": [
       "           Id  TotalSteps  TotalDistance  LoggedActivityDistance  \\\n",
       "0  1503960366       13162            8.5                     0.0   \n",
       "1  1503960366       10735            7.0                     0.0   \n",
       "2  1503960366       10460            6.7                     0.0   \n",
       "\n",
       "   VeryActiveDistance  ModeatelyActiveDistance  LightActiveDistance  \\\n",
       "0                 1.9                      0.6                  6.1   \n",
       "1                 1.6                      0.7                  4.7   \n",
       "2                 2.4                      0.4                  3.9   \n",
       "\n",
       "   SedentaryActivityDistance  VeryActiveMinutes  FairlyActiveMinutes  \\\n",
       "0                        0.0                 25                   13   \n",
       "1                        0.0                 21                   19   \n",
       "2                        0.0                 30                   11   \n",
       "\n",
       "   LightlyActiveMinutes  SedentaryMinutes  Calories  Month  Day  \n",
       "0                   328               728      1985      4   12  \n",
       "1                   217               776      1797      4   13  \n",
       "2                   181              1218      1776      4   14  "
      ]
     },
     "execution_count": 119,
     "metadata": {},
     "output_type": "execute_result"
    }
   ],
   "source": [
    "daily.head(3)"
   ]
  },
  {
   "cell_type": "markdown",
   "id": "9d15f2c5",
   "metadata": {},
   "source": [
    "### Heart rate per second"
   ]
  },
  {
   "cell_type": "code",
   "execution_count": null,
   "id": "258475e0",
   "metadata": {},
   "outputs": [
    {
     "data": {
      "text/html": [
       "<div>\n",
       "<style scoped>\n",
       "    .dataframe tbody tr th:only-of-type {\n",
       "        vertical-align: middle;\n",
       "    }\n",
       "\n",
       "    .dataframe tbody tr th {\n",
       "        vertical-align: top;\n",
       "    }\n",
       "\n",
       "    .dataframe thead th {\n",
       "        text-align: right;\n",
       "    }\n",
       "</style>\n",
       "<table border=\"1\" class=\"dataframe\">\n",
       "  <thead>\n",
       "    <tr style=\"text-align: right;\">\n",
       "      <th></th>\n",
       "      <th>Id</th>\n",
       "      <th>Date</th>\n",
       "      <th>Time</th>\n",
       "      <th>Value</th>\n",
       "      <th>Unnamed: 4</th>\n",
       "    </tr>\n",
       "  </thead>\n",
       "  <tbody>\n",
       "    <tr>\n",
       "      <th>0</th>\n",
       "      <td>2022484408</td>\n",
       "      <td>04-12-2016</td>\n",
       "      <td>07:21:00</td>\n",
       "      <td>97</td>\n",
       "      <td>NaN</td>\n",
       "    </tr>\n",
       "    <tr>\n",
       "      <th>1</th>\n",
       "      <td>2022484408</td>\n",
       "      <td>04-12-2016</td>\n",
       "      <td>07:21:05</td>\n",
       "      <td>102</td>\n",
       "      <td>NaN</td>\n",
       "    </tr>\n",
       "    <tr>\n",
       "      <th>2</th>\n",
       "      <td>2022484408</td>\n",
       "      <td>04-12-2016</td>\n",
       "      <td>07:21:10</td>\n",
       "      <td>105</td>\n",
       "      <td>NaN</td>\n",
       "    </tr>\n",
       "    <tr>\n",
       "      <th>3</th>\n",
       "      <td>2022484408</td>\n",
       "      <td>04-12-2016</td>\n",
       "      <td>07:21:20</td>\n",
       "      <td>103</td>\n",
       "      <td>NaN</td>\n",
       "    </tr>\n",
       "    <tr>\n",
       "      <th>4</th>\n",
       "      <td>2022484408</td>\n",
       "      <td>04-12-2016</td>\n",
       "      <td>07:21:25</td>\n",
       "      <td>101</td>\n",
       "      <td>NaN</td>\n",
       "    </tr>\n",
       "  </tbody>\n",
       "</table>\n",
       "</div>"
      ],
      "text/plain": [
       "           Id        Date      Time  Value  Unnamed: 4\n",
       "0  2022484408  04-12-2016  07:21:00     97         NaN\n",
       "1  2022484408  04-12-2016  07:21:05    102         NaN\n",
       "2  2022484408  04-12-2016  07:21:10    105         NaN\n",
       "3  2022484408  04-12-2016  07:21:20    103         NaN\n",
       "4  2022484408  04-12-2016  07:21:25    101         NaN"
      ]
     },
     "execution_count": 11,
     "metadata": {},
     "output_type": "execute_result"
    }
   ],
   "source": [
    "Sheart.head(5)"
   ]
  },
  {
   "cell_type": "code",
   "execution_count": null,
   "id": "494a1ac9",
   "metadata": {},
   "outputs": [],
   "source": [
    "Sheart.drop(columns='Unnamed: 4',inplace=True)"
   ]
  },
  {
   "cell_type": "code",
   "execution_count": null,
   "id": "d7ce9da7",
   "metadata": {},
   "outputs": [
    {
     "data": {
      "text/plain": [
       "Index(['Id', 'Date', 'Time', 'Value'], dtype='object')"
      ]
     },
     "execution_count": 13,
     "metadata": {},
     "output_type": "execute_result"
    }
   ],
   "source": [
    "Sheart.columns"
   ]
  },
  {
   "cell_type": "code",
   "execution_count": null,
   "id": "6f2274c1",
   "metadata": {},
   "outputs": [
    {
     "data": {
      "text/plain": [
       "7"
      ]
     },
     "execution_count": 14,
     "metadata": {},
     "output_type": "execute_result"
    }
   ],
   "source": [
    "Sheart['Id'].nunique()"
   ]
  },
  {
   "cell_type": "code",
   "execution_count": null,
   "id": "8c425869",
   "metadata": {},
   "outputs": [
    {
     "data": {
      "text/plain": [
       "array([2022484408, 2026352035, 2347167796, 4020332650, 4388161847,\n",
       "       4558609924, 5553957443], dtype=int64)"
      ]
     },
     "execution_count": 15,
     "metadata": {},
     "output_type": "execute_result"
    }
   ],
   "source": [
    "Sheart['Id'].unique()"
   ]
  },
  {
   "cell_type": "code",
   "execution_count": null,
   "id": "68d98972",
   "metadata": {},
   "outputs": [
    {
     "data": {
      "text/plain": [
       "31"
      ]
     },
     "execution_count": 16,
     "metadata": {},
     "output_type": "execute_result"
    }
   ],
   "source": [
    "Sheart['Date'].nunique()"
   ]
  },
  {
   "cell_type": "code",
   "execution_count": null,
   "id": "1a693baf",
   "metadata": {},
   "outputs": [
    {
     "data": {
      "text/plain": [
       "0"
      ]
     },
     "execution_count": 17,
     "metadata": {},
     "output_type": "execute_result"
    }
   ],
   "source": [
    "Sheart.duplicated().sum()"
   ]
  },
  {
   "cell_type": "code",
   "execution_count": null,
   "id": "8ce68dea",
   "metadata": {},
   "outputs": [
    {
     "data": {
      "text/plain": [
       "Id        0\n",
       "Date      0\n",
       "Time     11\n",
       "Value     0\n",
       "dtype: int64"
      ]
     },
     "execution_count": 18,
     "metadata": {},
     "output_type": "execute_result"
    }
   ],
   "source": [
    "Sheart.isnull().sum()"
   ]
  },
  {
   "cell_type": "code",
   "execution_count": null,
   "id": "f5f48622",
   "metadata": {},
   "outputs": [],
   "source": [
    "Sheart.dropna(subset=['Time'],inplace=True)"
   ]
  },
  {
   "cell_type": "code",
   "execution_count": null,
   "id": "4dff513d",
   "metadata": {},
   "outputs": [
    {
     "data": {
      "text/plain": [
       "0"
      ]
     },
     "execution_count": 20,
     "metadata": {},
     "output_type": "execute_result"
    }
   ],
   "source": [
    "Sheart.duplicated().sum()"
   ]
  },
  {
   "cell_type": "code",
   "execution_count": null,
   "id": "bad00608",
   "metadata": {},
   "outputs": [],
   "source": [
    "Sheart['Date'] = pd.to_datetime(Sheart['Date'])\n",
    "Sheart['Month'] = Sheart['Date'].dt.month\n",
    "Sheart['Day'] = Sheart['Date'].dt.day\n",
    "Sheart = Sheart.drop(columns=['Date'])"
   ]
  },
  {
   "cell_type": "code",
   "execution_count": null,
   "id": "6be0829f",
   "metadata": {},
   "outputs": [],
   "source": [
    "Sheart['Time'] = pd.to_datetime(Sheart['Time'], format='%H:%M:%S')\n",
    "\n",
    "Sheart['Hour'] = Sheart['Time'].dt.hour\n",
    "Sheart['Minute'] = Sheart['Time'].dt.minute\n",
    "Sheart['Second'] = Sheart['Time'].dt.second\n",
    "Sheart = Sheart.drop(columns=['Time'])"
   ]
  },
  {
   "cell_type": "code",
   "execution_count": null,
   "id": "8e952949",
   "metadata": {},
   "outputs": [
    {
     "data": {
      "text/html": [
       "<div>\n",
       "<style scoped>\n",
       "    .dataframe tbody tr th:only-of-type {\n",
       "        vertical-align: middle;\n",
       "    }\n",
       "\n",
       "    .dataframe tbody tr th {\n",
       "        vertical-align: top;\n",
       "    }\n",
       "\n",
       "    .dataframe thead th {\n",
       "        text-align: right;\n",
       "    }\n",
       "</style>\n",
       "<table border=\"1\" class=\"dataframe\">\n",
       "  <thead>\n",
       "    <tr style=\"text-align: right;\">\n",
       "      <th></th>\n",
       "      <th>Id</th>\n",
       "      <th>Value</th>\n",
       "      <th>Month</th>\n",
       "      <th>Day</th>\n",
       "      <th>Hour</th>\n",
       "      <th>Minute</th>\n",
       "      <th>Second</th>\n",
       "    </tr>\n",
       "  </thead>\n",
       "  <tbody>\n",
       "    <tr>\n",
       "      <th>0</th>\n",
       "      <td>2022484408</td>\n",
       "      <td>97</td>\n",
       "      <td>4</td>\n",
       "      <td>12</td>\n",
       "      <td>7</td>\n",
       "      <td>21</td>\n",
       "      <td>0</td>\n",
       "    </tr>\n",
       "    <tr>\n",
       "      <th>1</th>\n",
       "      <td>2022484408</td>\n",
       "      <td>102</td>\n",
       "      <td>4</td>\n",
       "      <td>12</td>\n",
       "      <td>7</td>\n",
       "      <td>21</td>\n",
       "      <td>5</td>\n",
       "    </tr>\n",
       "  </tbody>\n",
       "</table>\n",
       "</div>"
      ],
      "text/plain": [
       "           Id  Value  Month  Day  Hour  Minute  Second\n",
       "0  2022484408     97      4   12     7      21       0\n",
       "1  2022484408    102      4   12     7      21       5"
      ]
     },
     "execution_count": 23,
     "metadata": {},
     "output_type": "execute_result"
    }
   ],
   "source": [
    "Sheart.head(2)"
   ]
  },
  {
   "cell_type": "markdown",
   "id": "5f410a1c",
   "metadata": {},
   "source": [
    "### Calories burned per hour"
   ]
  },
  {
   "cell_type": "code",
   "execution_count": null,
   "id": "9cf0d562",
   "metadata": {},
   "outputs": [
    {
     "data": {
      "text/html": [
       "<div>\n",
       "<style scoped>\n",
       "    .dataframe tbody tr th:only-of-type {\n",
       "        vertical-align: middle;\n",
       "    }\n",
       "\n",
       "    .dataframe tbody tr th {\n",
       "        vertical-align: top;\n",
       "    }\n",
       "\n",
       "    .dataframe thead th {\n",
       "        text-align: right;\n",
       "    }\n",
       "</style>\n",
       "<table border=\"1\" class=\"dataframe\">\n",
       "  <thead>\n",
       "    <tr style=\"text-align: right;\">\n",
       "      <th></th>\n",
       "      <th>Id</th>\n",
       "      <th>Date</th>\n",
       "      <th>Time</th>\n",
       "      <th>Calories</th>\n",
       "    </tr>\n",
       "  </thead>\n",
       "  <tbody>\n",
       "    <tr>\n",
       "      <th>0</th>\n",
       "      <td>1503960366</td>\n",
       "      <td>04-12-2016</td>\n",
       "      <td>00:00:00</td>\n",
       "      <td>81</td>\n",
       "    </tr>\n",
       "    <tr>\n",
       "      <th>1</th>\n",
       "      <td>1503960366</td>\n",
       "      <td>04-12-2016</td>\n",
       "      <td>01:00:00</td>\n",
       "      <td>61</td>\n",
       "    </tr>\n",
       "    <tr>\n",
       "      <th>2</th>\n",
       "      <td>1503960366</td>\n",
       "      <td>04-12-2016</td>\n",
       "      <td>02:00:00</td>\n",
       "      <td>59</td>\n",
       "    </tr>\n",
       "  </tbody>\n",
       "</table>\n",
       "</div>"
      ],
      "text/plain": [
       "           Id        Date      Time  Calories\n",
       "0  1503960366  04-12-2016  00:00:00        81\n",
       "1  1503960366  04-12-2016  01:00:00        61\n",
       "2  1503960366  04-12-2016  02:00:00        59"
      ]
     },
     "execution_count": 24,
     "metadata": {},
     "output_type": "execute_result"
    }
   ],
   "source": [
    "Hcalories.head(3)"
   ]
  },
  {
   "cell_type": "code",
   "execution_count": null,
   "id": "5376e858",
   "metadata": {},
   "outputs": [
    {
     "data": {
      "text/plain": [
       "33"
      ]
     },
     "execution_count": 25,
     "metadata": {},
     "output_type": "execute_result"
    }
   ],
   "source": [
    "Hcalories['Id'].nunique()"
   ]
  },
  {
   "cell_type": "code",
   "execution_count": null,
   "id": "455ed0a0",
   "metadata": {},
   "outputs": [
    {
     "data": {
      "text/plain": [
       "0"
      ]
     },
     "execution_count": 26,
     "metadata": {},
     "output_type": "execute_result"
    }
   ],
   "source": [
    "Hcalories.duplicated().sum()"
   ]
  },
  {
   "cell_type": "code",
   "execution_count": null,
   "id": "f3287cb6",
   "metadata": {},
   "outputs": [
    {
     "data": {
      "text/plain": [
       "Id          0\n",
       "Date        0\n",
       "Time        0\n",
       "Calories    0\n",
       "dtype: int64"
      ]
     },
     "execution_count": 27,
     "metadata": {},
     "output_type": "execute_result"
    }
   ],
   "source": [
    "Hcalories.isnull().sum()"
   ]
  },
  {
   "cell_type": "code",
   "execution_count": null,
   "id": "9fcd41d5",
   "metadata": {},
   "outputs": [
    {
     "data": {
      "text/plain": [
       "31"
      ]
     },
     "execution_count": 28,
     "metadata": {},
     "output_type": "execute_result"
    }
   ],
   "source": [
    "Hcalories['Date'].nunique()"
   ]
  },
  {
   "cell_type": "code",
   "execution_count": null,
   "id": "7579105d",
   "metadata": {},
   "outputs": [],
   "source": [
    "Hcalories['Date'] = pd.to_datetime(Hcalories['Date'])\n",
    "Hcalories['Month'] = Hcalories['Date'].dt.month\n",
    "Hcalories['Day'] = Hcalories['Date'].dt.day\n",
    "Hcalories = Hcalories.drop(columns=['Date'])"
   ]
  },
  {
   "cell_type": "code",
   "execution_count": null,
   "id": "d7b1c0b6",
   "metadata": {},
   "outputs": [],
   "source": [
    "Hcalories['Time'] = pd.to_datetime(Hcalories['Time'], format='%H:%M:%S')\n",
    "\n",
    "Hcalories['Hour'] = Hcalories['Time'].dt.hour\n",
    "Hcalories = Hcalories.drop(columns=['Time'])"
   ]
  },
  {
   "cell_type": "code",
   "execution_count": null,
   "id": "2ff09c5c",
   "metadata": {},
   "outputs": [
    {
     "data": {
      "text/html": [
       "<div>\n",
       "<style scoped>\n",
       "    .dataframe tbody tr th:only-of-type {\n",
       "        vertical-align: middle;\n",
       "    }\n",
       "\n",
       "    .dataframe tbody tr th {\n",
       "        vertical-align: top;\n",
       "    }\n",
       "\n",
       "    .dataframe thead th {\n",
       "        text-align: right;\n",
       "    }\n",
       "</style>\n",
       "<table border=\"1\" class=\"dataframe\">\n",
       "  <thead>\n",
       "    <tr style=\"text-align: right;\">\n",
       "      <th></th>\n",
       "      <th>Id</th>\n",
       "      <th>Calories</th>\n",
       "      <th>Month</th>\n",
       "      <th>Day</th>\n",
       "      <th>Hour</th>\n",
       "    </tr>\n",
       "  </thead>\n",
       "  <tbody>\n",
       "    <tr>\n",
       "      <th>0</th>\n",
       "      <td>1503960366</td>\n",
       "      <td>81</td>\n",
       "      <td>4</td>\n",
       "      <td>12</td>\n",
       "      <td>0</td>\n",
       "    </tr>\n",
       "    <tr>\n",
       "      <th>1</th>\n",
       "      <td>1503960366</td>\n",
       "      <td>61</td>\n",
       "      <td>4</td>\n",
       "      <td>12</td>\n",
       "      <td>1</td>\n",
       "    </tr>\n",
       "    <tr>\n",
       "      <th>2</th>\n",
       "      <td>1503960366</td>\n",
       "      <td>59</td>\n",
       "      <td>4</td>\n",
       "      <td>12</td>\n",
       "      <td>2</td>\n",
       "    </tr>\n",
       "  </tbody>\n",
       "</table>\n",
       "</div>"
      ],
      "text/plain": [
       "           Id  Calories  Month  Day  Hour\n",
       "0  1503960366        81      4   12     0\n",
       "1  1503960366        61      4   12     1\n",
       "2  1503960366        59      4   12     2"
      ]
     },
     "execution_count": 31,
     "metadata": {},
     "output_type": "execute_result"
    }
   ],
   "source": [
    "Hcalories.head(3)"
   ]
  },
  {
   "cell_type": "markdown",
   "id": "ecc92676",
   "metadata": {},
   "source": [
    "### Intensive activity each hour"
   ]
  },
  {
   "cell_type": "code",
   "execution_count": null,
   "id": "831b4a7b",
   "metadata": {},
   "outputs": [
    {
     "data": {
      "text/html": [
       "<div>\n",
       "<style scoped>\n",
       "    .dataframe tbody tr th:only-of-type {\n",
       "        vertical-align: middle;\n",
       "    }\n",
       "\n",
       "    .dataframe tbody tr th {\n",
       "        vertical-align: top;\n",
       "    }\n",
       "\n",
       "    .dataframe thead th {\n",
       "        text-align: right;\n",
       "    }\n",
       "</style>\n",
       "<table border=\"1\" class=\"dataframe\">\n",
       "  <thead>\n",
       "    <tr style=\"text-align: right;\">\n",
       "      <th></th>\n",
       "      <th>Id</th>\n",
       "      <th>ActivityHour</th>\n",
       "      <th>Time</th>\n",
       "      <th>StepTotal</th>\n",
       "    </tr>\n",
       "  </thead>\n",
       "  <tbody>\n",
       "    <tr>\n",
       "      <th>0</th>\n",
       "      <td>1503960366</td>\n",
       "      <td>04-12-2016</td>\n",
       "      <td>00:00:00</td>\n",
       "      <td>373</td>\n",
       "    </tr>\n",
       "    <tr>\n",
       "      <th>1</th>\n",
       "      <td>1503960366</td>\n",
       "      <td>04-12-2016</td>\n",
       "      <td>01:00:00</td>\n",
       "      <td>160</td>\n",
       "    </tr>\n",
       "    <tr>\n",
       "      <th>2</th>\n",
       "      <td>1503960366</td>\n",
       "      <td>04-12-2016</td>\n",
       "      <td>02:00:00</td>\n",
       "      <td>151</td>\n",
       "    </tr>\n",
       "  </tbody>\n",
       "</table>\n",
       "</div>"
      ],
      "text/plain": [
       "           Id ActivityHour      Time  StepTotal\n",
       "0  1503960366   04-12-2016  00:00:00        373\n",
       "1  1503960366   04-12-2016  01:00:00        160\n",
       "2  1503960366   04-12-2016  02:00:00        151"
      ]
     },
     "execution_count": 32,
     "metadata": {},
     "output_type": "execute_result"
    }
   ],
   "source": [
    "Hintensity.head(3)"
   ]
  },
  {
   "cell_type": "code",
   "execution_count": null,
   "id": "56705af0",
   "metadata": {},
   "outputs": [],
   "source": [
    "Hintensity.rename(columns={'ActivityHour':'Date'},inplace=True)"
   ]
  },
  {
   "cell_type": "code",
   "execution_count": null,
   "id": "78f19e70",
   "metadata": {},
   "outputs": [
    {
     "data": {
      "text/html": [
       "<div>\n",
       "<style scoped>\n",
       "    .dataframe tbody tr th:only-of-type {\n",
       "        vertical-align: middle;\n",
       "    }\n",
       "\n",
       "    .dataframe tbody tr th {\n",
       "        vertical-align: top;\n",
       "    }\n",
       "\n",
       "    .dataframe thead th {\n",
       "        text-align: right;\n",
       "    }\n",
       "</style>\n",
       "<table border=\"1\" class=\"dataframe\">\n",
       "  <thead>\n",
       "    <tr style=\"text-align: right;\">\n",
       "      <th></th>\n",
       "      <th>Id</th>\n",
       "      <th>Date</th>\n",
       "      <th>Time</th>\n",
       "      <th>StepTotal</th>\n",
       "    </tr>\n",
       "  </thead>\n",
       "  <tbody>\n",
       "    <tr>\n",
       "      <th>0</th>\n",
       "      <td>1503960366</td>\n",
       "      <td>04-12-2016</td>\n",
       "      <td>00:00:00</td>\n",
       "      <td>373</td>\n",
       "    </tr>\n",
       "    <tr>\n",
       "      <th>1</th>\n",
       "      <td>1503960366</td>\n",
       "      <td>04-12-2016</td>\n",
       "      <td>01:00:00</td>\n",
       "      <td>160</td>\n",
       "    </tr>\n",
       "    <tr>\n",
       "      <th>2</th>\n",
       "      <td>1503960366</td>\n",
       "      <td>04-12-2016</td>\n",
       "      <td>02:00:00</td>\n",
       "      <td>151</td>\n",
       "    </tr>\n",
       "  </tbody>\n",
       "</table>\n",
       "</div>"
      ],
      "text/plain": [
       "           Id        Date      Time  StepTotal\n",
       "0  1503960366  04-12-2016  00:00:00        373\n",
       "1  1503960366  04-12-2016  01:00:00        160\n",
       "2  1503960366  04-12-2016  02:00:00        151"
      ]
     },
     "execution_count": 34,
     "metadata": {},
     "output_type": "execute_result"
    }
   ],
   "source": [
    "Hintensity.head(3)"
   ]
  },
  {
   "cell_type": "code",
   "execution_count": null,
   "id": "495b2780",
   "metadata": {},
   "outputs": [
    {
     "data": {
      "text/plain": [
       "0"
      ]
     },
     "execution_count": 35,
     "metadata": {},
     "output_type": "execute_result"
    }
   ],
   "source": [
    "Hintensity.duplicated().sum()"
   ]
  },
  {
   "cell_type": "code",
   "execution_count": null,
   "id": "245a3ad0",
   "metadata": {},
   "outputs": [
    {
     "data": {
      "text/plain": [
       "Id           0\n",
       "Date         0\n",
       "Time         0\n",
       "StepTotal    0\n",
       "dtype: int64"
      ]
     },
     "execution_count": 36,
     "metadata": {},
     "output_type": "execute_result"
    }
   ],
   "source": [
    "Hintensity.isnull().sum()"
   ]
  },
  {
   "cell_type": "code",
   "execution_count": null,
   "id": "2973fa25",
   "metadata": {},
   "outputs": [
    {
     "data": {
      "text/plain": [
       "33"
      ]
     },
     "execution_count": 37,
     "metadata": {},
     "output_type": "execute_result"
    }
   ],
   "source": [
    "Hintensity[\"Id\"].nunique()"
   ]
  },
  {
   "cell_type": "code",
   "execution_count": null,
   "id": "766b47c3",
   "metadata": {},
   "outputs": [],
   "source": [
    "Hintensity['Date'] = pd.to_datetime(Hintensity['Date'])\n",
    "Hintensity['Month'] = Hintensity['Date'].dt.month\n",
    "Hintensity['Day'] = Hintensity['Date'].dt.day\n",
    "Hintensity = Hintensity.drop(columns=['Date'])"
   ]
  },
  {
   "cell_type": "code",
   "execution_count": null,
   "id": "6c2146f4",
   "metadata": {},
   "outputs": [],
   "source": [
    "Hintensity['Time'] = pd.to_datetime(Hintensity['Time'], format='%H:%M:%S')\n",
    "\n",
    "Hintensity['Hour'] = Hintensity['Time'].dt.hour\n",
    "Hintensity = Hintensity.drop(columns=['Time'])"
   ]
  },
  {
   "cell_type": "code",
   "execution_count": null,
   "id": "3e391661",
   "metadata": {},
   "outputs": [
    {
     "data": {
      "text/html": [
       "<div>\n",
       "<style scoped>\n",
       "    .dataframe tbody tr th:only-of-type {\n",
       "        vertical-align: middle;\n",
       "    }\n",
       "\n",
       "    .dataframe tbody tr th {\n",
       "        vertical-align: top;\n",
       "    }\n",
       "\n",
       "    .dataframe thead th {\n",
       "        text-align: right;\n",
       "    }\n",
       "</style>\n",
       "<table border=\"1\" class=\"dataframe\">\n",
       "  <thead>\n",
       "    <tr style=\"text-align: right;\">\n",
       "      <th></th>\n",
       "      <th>Id</th>\n",
       "      <th>StepTotal</th>\n",
       "      <th>Month</th>\n",
       "      <th>Day</th>\n",
       "      <th>Hour</th>\n",
       "    </tr>\n",
       "  </thead>\n",
       "  <tbody>\n",
       "    <tr>\n",
       "      <th>0</th>\n",
       "      <td>1503960366</td>\n",
       "      <td>373</td>\n",
       "      <td>4</td>\n",
       "      <td>12</td>\n",
       "      <td>0</td>\n",
       "    </tr>\n",
       "    <tr>\n",
       "      <th>1</th>\n",
       "      <td>1503960366</td>\n",
       "      <td>160</td>\n",
       "      <td>4</td>\n",
       "      <td>12</td>\n",
       "      <td>1</td>\n",
       "    </tr>\n",
       "    <tr>\n",
       "      <th>2</th>\n",
       "      <td>1503960366</td>\n",
       "      <td>151</td>\n",
       "      <td>4</td>\n",
       "      <td>12</td>\n",
       "      <td>2</td>\n",
       "    </tr>\n",
       "  </tbody>\n",
       "</table>\n",
       "</div>"
      ],
      "text/plain": [
       "           Id  StepTotal  Month  Day  Hour\n",
       "0  1503960366        373      4   12     0\n",
       "1  1503960366        160      4   12     1\n",
       "2  1503960366        151      4   12     2"
      ]
     },
     "execution_count": 40,
     "metadata": {},
     "output_type": "execute_result"
    }
   ],
   "source": [
    "Hintensity.head(3)"
   ]
  },
  {
   "cell_type": "markdown",
   "id": "1cf79d1d",
   "metadata": {},
   "source": [
    "### M E T\n"
   ]
  },
  {
   "cell_type": "code",
   "execution_count": null,
   "id": "985bec51",
   "metadata": {},
   "outputs": [
    {
     "data": {
      "text/html": [
       "<div>\n",
       "<style scoped>\n",
       "    .dataframe tbody tr th:only-of-type {\n",
       "        vertical-align: middle;\n",
       "    }\n",
       "\n",
       "    .dataframe tbody tr th {\n",
       "        vertical-align: top;\n",
       "    }\n",
       "\n",
       "    .dataframe thead th {\n",
       "        text-align: right;\n",
       "    }\n",
       "</style>\n",
       "<table border=\"1\" class=\"dataframe\">\n",
       "  <thead>\n",
       "    <tr style=\"text-align: right;\">\n",
       "      <th></th>\n",
       "      <th>Id</th>\n",
       "      <th>Date</th>\n",
       "      <th>Time</th>\n",
       "      <th>METs</th>\n",
       "    </tr>\n",
       "  </thead>\n",
       "  <tbody>\n",
       "    <tr>\n",
       "      <th>0</th>\n",
       "      <td>1503960366</td>\n",
       "      <td>04-12-2016</td>\n",
       "      <td>00:00:00</td>\n",
       "      <td>10</td>\n",
       "    </tr>\n",
       "    <tr>\n",
       "      <th>1</th>\n",
       "      <td>1503960366</td>\n",
       "      <td>04-12-2016</td>\n",
       "      <td>00:01:00</td>\n",
       "      <td>10</td>\n",
       "    </tr>\n",
       "    <tr>\n",
       "      <th>2</th>\n",
       "      <td>1503960366</td>\n",
       "      <td>04-12-2016</td>\n",
       "      <td>00:02:00</td>\n",
       "      <td>10</td>\n",
       "    </tr>\n",
       "  </tbody>\n",
       "</table>\n",
       "</div>"
      ],
      "text/plain": [
       "           Id        Date      Time  METs\n",
       "0  1503960366  04-12-2016  00:00:00    10\n",
       "1  1503960366  04-12-2016  00:01:00    10\n",
       "2  1503960366  04-12-2016  00:02:00    10"
      ]
     },
     "execution_count": 41,
     "metadata": {},
     "output_type": "execute_result"
    }
   ],
   "source": [
    "Mmet.head(3)"
   ]
  },
  {
   "cell_type": "code",
   "execution_count": null,
   "id": "4d57af56",
   "metadata": {},
   "outputs": [
    {
     "data": {
      "text/plain": [
       "0"
      ]
     },
     "execution_count": 42,
     "metadata": {},
     "output_type": "execute_result"
    }
   ],
   "source": [
    "Mmet.duplicated().sum()"
   ]
  },
  {
   "cell_type": "code",
   "execution_count": null,
   "id": "7c3f438c",
   "metadata": {},
   "outputs": [
    {
     "data": {
      "text/plain": [
       "27"
      ]
     },
     "execution_count": 43,
     "metadata": {},
     "output_type": "execute_result"
    }
   ],
   "source": [
    "Mmet[\"Id\"].nunique()"
   ]
  },
  {
   "cell_type": "code",
   "execution_count": null,
   "id": "3060e11e",
   "metadata": {},
   "outputs": [
    {
     "data": {
      "text/plain": [
       "Id      0\n",
       "Date    0\n",
       "Time    0\n",
       "METs    0\n",
       "dtype: int64"
      ]
     },
     "execution_count": 44,
     "metadata": {},
     "output_type": "execute_result"
    }
   ],
   "source": [
    "Mmet.isnull().sum()"
   ]
  },
  {
   "cell_type": "code",
   "execution_count": null,
   "id": "e9058110",
   "metadata": {},
   "outputs": [
    {
     "data": {
      "text/plain": [
       "31"
      ]
     },
     "execution_count": 45,
     "metadata": {},
     "output_type": "execute_result"
    }
   ],
   "source": [
    "Mmet[\"Date\"].nunique()"
   ]
  },
  {
   "cell_type": "code",
   "execution_count": null,
   "id": "9afefa5a",
   "metadata": {},
   "outputs": [],
   "source": [
    "Mmet['Date'] = pd.to_datetime(Mmet['Date'])\n",
    "Mmet['Month'] = Mmet['Date'].dt.month\n",
    "Mmet['Day'] = Mmet['Date'].dt.day\n",
    "Mmet = Mmet.drop(columns=['Date'])"
   ]
  },
  {
   "cell_type": "code",
   "execution_count": null,
   "id": "eca9715e",
   "metadata": {},
   "outputs": [],
   "source": [
    "Mmet['Time'] = pd.to_datetime(Mmet['Time'], format='%H:%M:%S')\n",
    "\n",
    "Mmet['Hour'] = Mmet['Time'].dt.hour\n",
    "Mmet['Minute'] = Mmet['Time'].dt.minute\n",
    "Mmet = Mmet.drop(columns=['Time'])"
   ]
  },
  {
   "cell_type": "code",
   "execution_count": null,
   "id": "7561642c",
   "metadata": {},
   "outputs": [
    {
     "data": {
      "text/html": [
       "<div>\n",
       "<style scoped>\n",
       "    .dataframe tbody tr th:only-of-type {\n",
       "        vertical-align: middle;\n",
       "    }\n",
       "\n",
       "    .dataframe tbody tr th {\n",
       "        vertical-align: top;\n",
       "    }\n",
       "\n",
       "    .dataframe thead th {\n",
       "        text-align: right;\n",
       "    }\n",
       "</style>\n",
       "<table border=\"1\" class=\"dataframe\">\n",
       "  <thead>\n",
       "    <tr style=\"text-align: right;\">\n",
       "      <th></th>\n",
       "      <th>Id</th>\n",
       "      <th>METs</th>\n",
       "      <th>Month</th>\n",
       "      <th>Day</th>\n",
       "      <th>Hour</th>\n",
       "      <th>Minute</th>\n",
       "    </tr>\n",
       "  </thead>\n",
       "  <tbody>\n",
       "    <tr>\n",
       "      <th>0</th>\n",
       "      <td>1503960366</td>\n",
       "      <td>10</td>\n",
       "      <td>4</td>\n",
       "      <td>12</td>\n",
       "      <td>0</td>\n",
       "      <td>0</td>\n",
       "    </tr>\n",
       "    <tr>\n",
       "      <th>1</th>\n",
       "      <td>1503960366</td>\n",
       "      <td>10</td>\n",
       "      <td>4</td>\n",
       "      <td>12</td>\n",
       "      <td>0</td>\n",
       "      <td>1</td>\n",
       "    </tr>\n",
       "    <tr>\n",
       "      <th>2</th>\n",
       "      <td>1503960366</td>\n",
       "      <td>10</td>\n",
       "      <td>4</td>\n",
       "      <td>12</td>\n",
       "      <td>0</td>\n",
       "      <td>2</td>\n",
       "    </tr>\n",
       "  </tbody>\n",
       "</table>\n",
       "</div>"
      ],
      "text/plain": [
       "           Id  METs  Month  Day  Hour  Minute\n",
       "0  1503960366    10      4   12     0       0\n",
       "1  1503960366    10      4   12     0       1\n",
       "2  1503960366    10      4   12     0       2"
      ]
     },
     "execution_count": 48,
     "metadata": {},
     "output_type": "execute_result"
    }
   ],
   "source": [
    "Mmet.head(3)"
   ]
  },
  {
   "cell_type": "markdown",
   "id": "3a685197",
   "metadata": {},
   "source": [
    "### Sleep per minute"
   ]
  },
  {
   "cell_type": "code",
   "execution_count": null,
   "id": "c0e2c3f4",
   "metadata": {},
   "outputs": [
    {
     "data": {
      "text/html": [
       "<div>\n",
       "<style scoped>\n",
       "    .dataframe tbody tr th:only-of-type {\n",
       "        vertical-align: middle;\n",
       "    }\n",
       "\n",
       "    .dataframe tbody tr th {\n",
       "        vertical-align: top;\n",
       "    }\n",
       "\n",
       "    .dataframe thead th {\n",
       "        text-align: right;\n",
       "    }\n",
       "</style>\n",
       "<table border=\"1\" class=\"dataframe\">\n",
       "  <thead>\n",
       "    <tr style=\"text-align: right;\">\n",
       "      <th></th>\n",
       "      <th>Id</th>\n",
       "      <th>date</th>\n",
       "      <th>Time</th>\n",
       "      <th>value</th>\n",
       "    </tr>\n",
       "  </thead>\n",
       "  <tbody>\n",
       "    <tr>\n",
       "      <th>0</th>\n",
       "      <td>1503960366</td>\n",
       "      <td>04-12-2016</td>\n",
       "      <td>02:47</td>\n",
       "      <td>3</td>\n",
       "    </tr>\n",
       "    <tr>\n",
       "      <th>1</th>\n",
       "      <td>1503960366</td>\n",
       "      <td>04-12-2016</td>\n",
       "      <td>02:48</td>\n",
       "      <td>2</td>\n",
       "    </tr>\n",
       "    <tr>\n",
       "      <th>2</th>\n",
       "      <td>1503960366</td>\n",
       "      <td>04-12-2016</td>\n",
       "      <td>02:49</td>\n",
       "      <td>1</td>\n",
       "    </tr>\n",
       "  </tbody>\n",
       "</table>\n",
       "</div>"
      ],
      "text/plain": [
       "           Id        date   Time  value\n",
       "0  1503960366  04-12-2016  02:47      3\n",
       "1  1503960366  04-12-2016  02:48      2\n",
       "2  1503960366  04-12-2016  02:49      1"
      ]
     },
     "execution_count": 49,
     "metadata": {},
     "output_type": "execute_result"
    }
   ],
   "source": [
    "Msleep.head(3)"
   ]
  },
  {
   "cell_type": "code",
   "execution_count": null,
   "id": "1e8e02d9",
   "metadata": {},
   "outputs": [
    {
     "data": {
      "text/plain": [
       "543"
      ]
     },
     "execution_count": 50,
     "metadata": {},
     "output_type": "execute_result"
    }
   ],
   "source": [
    "Msleep.duplicated().sum()"
   ]
  },
  {
   "cell_type": "code",
   "execution_count": null,
   "id": "6d1522f9",
   "metadata": {},
   "outputs": [],
   "source": [
    "Msleep.rename(columns={'date':'Date'},inplace= True)"
   ]
  },
  {
   "cell_type": "code",
   "execution_count": null,
   "id": "05c3cb11",
   "metadata": {},
   "outputs": [],
   "source": [
    "Msleep.drop_duplicates(subset=['Id','Date','Time'],keep='first',inplace=True) #kept the first occurence and removed the rest. Also checking only ID,Date and Time for unique occurence."
   ]
  },
  {
   "cell_type": "code",
   "execution_count": null,
   "id": "04145a65",
   "metadata": {},
   "outputs": [
    {
     "data": {
      "text/plain": [
       "Id       0\n",
       "Date     0\n",
       "Time     0\n",
       "value    0\n",
       "dtype: int64"
      ]
     },
     "execution_count": 53,
     "metadata": {},
     "output_type": "execute_result"
    }
   ],
   "source": [
    "Msleep.isnull().sum()"
   ]
  },
  {
   "cell_type": "code",
   "execution_count": null,
   "id": "a6cc4d97",
   "metadata": {},
   "outputs": [
    {
     "data": {
      "text/plain": [
       "32"
      ]
     },
     "execution_count": 54,
     "metadata": {},
     "output_type": "execute_result"
    }
   ],
   "source": [
    "Msleep['Date'].nunique()"
   ]
  },
  {
   "cell_type": "code",
   "execution_count": null,
   "id": "c8e881fd",
   "metadata": {},
   "outputs": [],
   "source": [
    "Msleep['Date'] = pd.to_datetime(Msleep['Date'])\n",
    "Msleep['Month'] = Msleep['Date'].dt.month\n",
    "Msleep['Day'] = Msleep['Date'].dt.day\n",
    "Msleep = Msleep.drop(columns=['Date'])"
   ]
  },
  {
   "cell_type": "code",
   "execution_count": null,
   "id": "cf912f37",
   "metadata": {},
   "outputs": [],
   "source": [
    "Msleep['Time'] = pd.to_datetime(Msleep['Time'], format='%H:%M')\n",
    "\n",
    "Msleep['Hour'] = Msleep['Time'].dt.hour\n",
    "Msleep['Minute'] = Msleep['Time'].dt.minute\n",
    "Msleep = Msleep.drop(columns=['Time'])"
   ]
  },
  {
   "cell_type": "markdown",
   "id": "595456d4",
   "metadata": {},
   "source": [
    "### Sleep per Day\n"
   ]
  },
  {
   "cell_type": "code",
   "execution_count": null,
   "id": "b8f821c0",
   "metadata": {},
   "outputs": [
    {
     "data": {
      "text/html": [
       "<div>\n",
       "<style scoped>\n",
       "    .dataframe tbody tr th:only-of-type {\n",
       "        vertical-align: middle;\n",
       "    }\n",
       "\n",
       "    .dataframe tbody tr th {\n",
       "        vertical-align: top;\n",
       "    }\n",
       "\n",
       "    .dataframe thead th {\n",
       "        text-align: right;\n",
       "    }\n",
       "</style>\n",
       "<table border=\"1\" class=\"dataframe\">\n",
       "  <thead>\n",
       "    <tr style=\"text-align: right;\">\n",
       "      <th></th>\n",
       "      <th>Id</th>\n",
       "      <th>SleepDay</th>\n",
       "      <th>TotalSleepRecords</th>\n",
       "      <th>TotalMinutesAsleep</th>\n",
       "      <th>TotalTimeInBed</th>\n",
       "    </tr>\n",
       "  </thead>\n",
       "  <tbody>\n",
       "    <tr>\n",
       "      <th>0</th>\n",
       "      <td>1503960366</td>\n",
       "      <td>04-12-2016</td>\n",
       "      <td>1</td>\n",
       "      <td>327</td>\n",
       "      <td>346</td>\n",
       "    </tr>\n",
       "    <tr>\n",
       "      <th>1</th>\n",
       "      <td>1503960366</td>\n",
       "      <td>4-13-2016</td>\n",
       "      <td>2</td>\n",
       "      <td>384</td>\n",
       "      <td>407</td>\n",
       "    </tr>\n",
       "    <tr>\n",
       "      <th>2</th>\n",
       "      <td>1503960366</td>\n",
       "      <td>4-15-2016</td>\n",
       "      <td>1</td>\n",
       "      <td>412</td>\n",
       "      <td>442</td>\n",
       "    </tr>\n",
       "  </tbody>\n",
       "</table>\n",
       "</div>"
      ],
      "text/plain": [
       "           Id    SleepDay  TotalSleepRecords  TotalMinutesAsleep  \\\n",
       "0  1503960366  04-12-2016                  1                 327   \n",
       "1  1503960366   4-13-2016                  2                 384   \n",
       "2  1503960366   4-15-2016                  1                 412   \n",
       "\n",
       "   TotalTimeInBed  \n",
       "0             346  \n",
       "1             407  \n",
       "2             442  "
      ]
     },
     "execution_count": 57,
     "metadata": {},
     "output_type": "execute_result"
    }
   ],
   "source": [
    "Dsleep.head(3)"
   ]
  },
  {
   "cell_type": "code",
   "execution_count": null,
   "id": "11fbcc16",
   "metadata": {},
   "outputs": [
    {
     "data": {
      "text/plain": [
       "3"
      ]
     },
     "execution_count": 58,
     "metadata": {},
     "output_type": "execute_result"
    }
   ],
   "source": [
    "Dsleep.duplicated().sum()"
   ]
  },
  {
   "cell_type": "code",
   "execution_count": null,
   "id": "bba7311f",
   "metadata": {},
   "outputs": [
    {
     "data": {
      "text/plain": [
       "Id                    0\n",
       "SleepDay              0\n",
       "TotalSleepRecords     0\n",
       "TotalMinutesAsleep    0\n",
       "TotalTimeInBed        0\n",
       "dtype: int64"
      ]
     },
     "execution_count": 59,
     "metadata": {},
     "output_type": "execute_result"
    }
   ],
   "source": [
    "Dsleep.isnull().sum()"
   ]
  },
  {
   "cell_type": "code",
   "execution_count": null,
   "id": "db463303",
   "metadata": {},
   "outputs": [],
   "source": [
    "Dsleep.rename(columns={'SleepDay':'Date'},inplace=True)"
   ]
  },
  {
   "cell_type": "code",
   "execution_count": null,
   "id": "af0be1c2",
   "metadata": {},
   "outputs": [],
   "source": [
    "Dsleep.drop_duplicates(subset=['Id','Date'],keep='first',inplace=True)"
   ]
  },
  {
   "cell_type": "code",
   "execution_count": null,
   "id": "84801e40",
   "metadata": {},
   "outputs": [
    {
     "data": {
      "text/plain": [
       "31"
      ]
     },
     "execution_count": 62,
     "metadata": {},
     "output_type": "execute_result"
    }
   ],
   "source": [
    "Dsleep['Date'].nunique()"
   ]
  },
  {
   "cell_type": "code",
   "execution_count": null,
   "id": "68d95c8a",
   "metadata": {},
   "outputs": [
    {
     "data": {
      "text/plain": [
       "24"
      ]
     },
     "execution_count": 63,
     "metadata": {},
     "output_type": "execute_result"
    }
   ],
   "source": [
    "Dsleep['Id'].nunique()\n"
   ]
  },
  {
   "cell_type": "code",
   "execution_count": null,
   "id": "e608f2d1",
   "metadata": {},
   "outputs": [],
   "source": [
    "Dsleep['Date'] = pd.to_datetime(Dsleep['Date'])\n",
    "Dsleep['Month'] = Dsleep['Date'].dt.month\n",
    "Dsleep['Day'] = Dsleep['Date'].dt.day\n",
    "Dsleep = Dsleep.drop(columns=['Date'])"
   ]
  },
  {
   "cell_type": "code",
   "execution_count": null,
   "id": "67b156cf",
   "metadata": {},
   "outputs": [
    {
     "data": {
      "text/html": [
       "<div>\n",
       "<style scoped>\n",
       "    .dataframe tbody tr th:only-of-type {\n",
       "        vertical-align: middle;\n",
       "    }\n",
       "\n",
       "    .dataframe tbody tr th {\n",
       "        vertical-align: top;\n",
       "    }\n",
       "\n",
       "    .dataframe thead th {\n",
       "        text-align: right;\n",
       "    }\n",
       "</style>\n",
       "<table border=\"1\" class=\"dataframe\">\n",
       "  <thead>\n",
       "    <tr style=\"text-align: right;\">\n",
       "      <th></th>\n",
       "      <th>Id</th>\n",
       "      <th>TotalSleepRecords</th>\n",
       "      <th>TotalMinutesAsleep</th>\n",
       "      <th>TotalTimeInBed</th>\n",
       "      <th>Month</th>\n",
       "      <th>Day</th>\n",
       "    </tr>\n",
       "  </thead>\n",
       "  <tbody>\n",
       "    <tr>\n",
       "      <th>0</th>\n",
       "      <td>1503960366</td>\n",
       "      <td>1</td>\n",
       "      <td>327</td>\n",
       "      <td>346</td>\n",
       "      <td>4</td>\n",
       "      <td>12</td>\n",
       "    </tr>\n",
       "    <tr>\n",
       "      <th>1</th>\n",
       "      <td>1503960366</td>\n",
       "      <td>2</td>\n",
       "      <td>384</td>\n",
       "      <td>407</td>\n",
       "      <td>4</td>\n",
       "      <td>13</td>\n",
       "    </tr>\n",
       "    <tr>\n",
       "      <th>2</th>\n",
       "      <td>1503960366</td>\n",
       "      <td>1</td>\n",
       "      <td>412</td>\n",
       "      <td>442</td>\n",
       "      <td>4</td>\n",
       "      <td>15</td>\n",
       "    </tr>\n",
       "  </tbody>\n",
       "</table>\n",
       "</div>"
      ],
      "text/plain": [
       "           Id  TotalSleepRecords  TotalMinutesAsleep  TotalTimeInBed  Month  \\\n",
       "0  1503960366                  1                 327             346      4   \n",
       "1  1503960366                  2                 384             407      4   \n",
       "2  1503960366                  1                 412             442      4   \n",
       "\n",
       "   Day  \n",
       "0   12  \n",
       "1   13  \n",
       "2   15  "
      ]
     },
     "execution_count": 65,
     "metadata": {},
     "output_type": "execute_result"
    }
   ],
   "source": [
    "Dsleep.head(3)"
   ]
  },
  {
   "cell_type": "markdown",
   "id": "bc2d3cd6",
   "metadata": {},
   "source": [
    "### Weight per day"
   ]
  },
  {
   "cell_type": "code",
   "execution_count": null,
   "id": "2dc82968",
   "metadata": {},
   "outputs": [
    {
     "data": {
      "text/html": [
       "<div>\n",
       "<style scoped>\n",
       "    .dataframe tbody tr th:only-of-type {\n",
       "        vertical-align: middle;\n",
       "    }\n",
       "\n",
       "    .dataframe tbody tr th {\n",
       "        vertical-align: top;\n",
       "    }\n",
       "\n",
       "    .dataframe thead th {\n",
       "        text-align: right;\n",
       "    }\n",
       "</style>\n",
       "<table border=\"1\" class=\"dataframe\">\n",
       "  <thead>\n",
       "    <tr style=\"text-align: right;\">\n",
       "      <th></th>\n",
       "      <th>Id</th>\n",
       "      <th>Date</th>\n",
       "      <th>Time</th>\n",
       "      <th>WeightKg</th>\n",
       "      <th>WeightPounds</th>\n",
       "      <th>Fat</th>\n",
       "      <th>BMI</th>\n",
       "      <th>IsManualReport</th>\n",
       "    </tr>\n",
       "  </thead>\n",
       "  <tbody>\n",
       "    <tr>\n",
       "      <th>0</th>\n",
       "      <td>1.503960e+09</td>\n",
       "      <td>05-02-2016</td>\n",
       "      <td>23:59:00</td>\n",
       "      <td>52.6</td>\n",
       "      <td>116.0</td>\n",
       "      <td>22.0</td>\n",
       "      <td>22.6</td>\n",
       "      <td>True</td>\n",
       "    </tr>\n",
       "    <tr>\n",
       "      <th>1</th>\n",
       "      <td>1.503960e+09</td>\n",
       "      <td>05-03-2016</td>\n",
       "      <td>23:59:00</td>\n",
       "      <td>52.6</td>\n",
       "      <td>116.0</td>\n",
       "      <td>NaN</td>\n",
       "      <td>22.6</td>\n",
       "      <td>True</td>\n",
       "    </tr>\n",
       "    <tr>\n",
       "      <th>2</th>\n",
       "      <td>1.927972e+09</td>\n",
       "      <td>4-13-2016</td>\n",
       "      <td>01:08:52</td>\n",
       "      <td>133.5</td>\n",
       "      <td>294.3</td>\n",
       "      <td>NaN</td>\n",
       "      <td>47.5</td>\n",
       "      <td>False</td>\n",
       "    </tr>\n",
       "  </tbody>\n",
       "</table>\n",
       "</div>"
      ],
      "text/plain": [
       "             Id        Date      Time  WeightKg  WeightPounds   Fat   BMI  \\\n",
       "0  1.503960e+09  05-02-2016  23:59:00      52.6         116.0  22.0  22.6   \n",
       "1  1.503960e+09  05-03-2016  23:59:00      52.6         116.0   NaN  22.6   \n",
       "2  1.927972e+09   4-13-2016  01:08:52     133.5         294.3   NaN  47.5   \n",
       "\n",
       "  IsManualReport  \n",
       "0           True  \n",
       "1           True  \n",
       "2          False  "
      ]
     },
     "execution_count": 66,
     "metadata": {},
     "output_type": "execute_result"
    }
   ],
   "source": [
    "weight.head(3)"
   ]
  },
  {
   "cell_type": "code",
   "execution_count": null,
   "id": "aedbf5e0",
   "metadata": {},
   "outputs": [
    {
     "data": {
      "text/plain": [
       "Id                 1\n",
       "Date               1\n",
       "Time               0\n",
       "WeightKg           1\n",
       "WeightPounds       1\n",
       "Fat               66\n",
       "BMI                0\n",
       "IsManualReport     1\n",
       "dtype: int64"
      ]
     },
     "execution_count": 67,
     "metadata": {},
     "output_type": "execute_result"
    }
   ],
   "source": [
    "weight.isnull().sum()"
   ]
  },
  {
   "cell_type": "code",
   "execution_count": null,
   "id": "d46330cc",
   "metadata": {},
   "outputs": [],
   "source": [
    "weight.drop(columns=['WeightPounds','Fat','Time'],inplace=True)"
   ]
  },
  {
   "cell_type": "code",
   "execution_count": null,
   "id": "5772572b",
   "metadata": {},
   "outputs": [],
   "source": [
    "weight = weight.dropna()"
   ]
  },
  {
   "cell_type": "code",
   "execution_count": null,
   "id": "d7a2ba50",
   "metadata": {},
   "outputs": [],
   "source": [
    "weight['Id'] = weight['Id'].astype(str).str.strip()\n",
    "weight['Id'] = pd.to_numeric(weight['Id'], errors='coerce')\n",
    "weight['Id'] = weight['Id'].astype('int64')       \n",
    "\n",
    "\n"
   ]
  },
  {
   "cell_type": "code",
   "execution_count": null,
   "id": "2a7344f0",
   "metadata": {},
   "outputs": [
    {
     "data": {
      "text/plain": [
       "31"
      ]
     },
     "execution_count": 71,
     "metadata": {},
     "output_type": "execute_result"
    }
   ],
   "source": [
    "weight['Date'].nunique()"
   ]
  },
  {
   "cell_type": "code",
   "execution_count": null,
   "id": "2e498588",
   "metadata": {},
   "outputs": [
    {
     "data": {
      "text/plain": [
       "8"
      ]
     },
     "execution_count": 72,
     "metadata": {},
     "output_type": "execute_result"
    }
   ],
   "source": [
    "weight['Id'].nunique()"
   ]
  },
  {
   "cell_type": "code",
   "execution_count": null,
   "id": "d221875a",
   "metadata": {},
   "outputs": [
    {
     "data": {
      "text/plain": [
       "0"
      ]
     },
     "execution_count": 73,
     "metadata": {},
     "output_type": "execute_result"
    }
   ],
   "source": [
    "weight.duplicated().sum()"
   ]
  },
  {
   "cell_type": "code",
   "execution_count": null,
   "id": "210bdc2f",
   "metadata": {},
   "outputs": [],
   "source": [
    "weight.drop_duplicates(subset=['Id','Date'],keep='first',inplace=True)"
   ]
  },
  {
   "cell_type": "code",
   "execution_count": null,
   "id": "c138ce73",
   "metadata": {},
   "outputs": [],
   "source": [
    "weight['Date'] = pd.to_datetime(weight['Date'])\n",
    "weight['Month'] = weight['Date'].dt.month\n",
    "weight['Day'] = weight['Date'].dt.day\n",
    "weight = weight.drop(columns=['Date'])"
   ]
  },
  {
   "cell_type": "code",
   "execution_count": null,
   "id": "f7b1df9b",
   "metadata": {},
   "outputs": [
    {
     "data": {
      "text/html": [
       "<div>\n",
       "<style scoped>\n",
       "    .dataframe tbody tr th:only-of-type {\n",
       "        vertical-align: middle;\n",
       "    }\n",
       "\n",
       "    .dataframe tbody tr th {\n",
       "        vertical-align: top;\n",
       "    }\n",
       "\n",
       "    .dataframe thead th {\n",
       "        text-align: right;\n",
       "    }\n",
       "</style>\n",
       "<table border=\"1\" class=\"dataframe\">\n",
       "  <thead>\n",
       "    <tr style=\"text-align: right;\">\n",
       "      <th></th>\n",
       "      <th>Id</th>\n",
       "      <th>WeightKg</th>\n",
       "      <th>BMI</th>\n",
       "      <th>IsManualReport</th>\n",
       "      <th>Month</th>\n",
       "      <th>Day</th>\n",
       "    </tr>\n",
       "  </thead>\n",
       "  <tbody>\n",
       "    <tr>\n",
       "      <th>0</th>\n",
       "      <td>1503960366</td>\n",
       "      <td>52.6</td>\n",
       "      <td>22.6</td>\n",
       "      <td>True</td>\n",
       "      <td>5</td>\n",
       "      <td>2</td>\n",
       "    </tr>\n",
       "    <tr>\n",
       "      <th>1</th>\n",
       "      <td>1503960366</td>\n",
       "      <td>52.6</td>\n",
       "      <td>22.6</td>\n",
       "      <td>True</td>\n",
       "      <td>5</td>\n",
       "      <td>3</td>\n",
       "    </tr>\n",
       "    <tr>\n",
       "      <th>2</th>\n",
       "      <td>1927972279</td>\n",
       "      <td>133.5</td>\n",
       "      <td>47.5</td>\n",
       "      <td>False</td>\n",
       "      <td>4</td>\n",
       "      <td>13</td>\n",
       "    </tr>\n",
       "  </tbody>\n",
       "</table>\n",
       "</div>"
      ],
      "text/plain": [
       "           Id  WeightKg   BMI IsManualReport  Month  Day\n",
       "0  1503960366      52.6  22.6           True      5    2\n",
       "1  1503960366      52.6  22.6           True      5    3\n",
       "2  1927972279     133.5  47.5          False      4   13"
      ]
     },
     "execution_count": 76,
     "metadata": {},
     "output_type": "execute_result"
    }
   ],
   "source": [
    "weight.head(3)"
   ]
  },
  {
   "cell_type": "code",
   "execution_count": null,
   "id": "b267d369",
   "metadata": {},
   "outputs": [],
   "source": []
  },
  {
   "cell_type": "markdown",
   "id": "74121817",
   "metadata": {},
   "source": [
    "# EDA\n",
    "split into Unimodal and mulitmodal analysis"
   ]
  },
  {
   "cell_type": "markdown",
   "id": "2d04f179",
   "metadata": {},
   "source": [
    "### Unimodal Analysis"
   ]
  },
  {
   "cell_type": "markdown",
   "id": "b42f01e4",
   "metadata": {},
   "source": [
    "##### DailyActivity"
   ]
  },
  {
   "cell_type": "code",
   "execution_count": null,
   "id": "38750dc3",
   "metadata": {},
   "outputs": [
    {
     "name": "stdout",
     "output_type": "stream",
     "text": [
      "       TotalDistance  LoggedActivityDistance  VeryActiveDistance  \\\n",
      "count     940.000000              940.000000          940.000000   \n",
      "mean        5.492979                0.108723            1.504149   \n",
      "std         3.924752                0.622038            2.658499   \n",
      "min         0.000000                0.000000            0.000000   \n",
      "25%         2.600000                0.000000            0.000000   \n",
      "50%         5.250000                0.000000            0.200000   \n",
      "75%         7.700000                0.000000            2.025000   \n",
      "max        28.000000                4.900000           21.900000   \n",
      "\n",
      "       ModeatelyActiveDistance  LightActiveDistance  \\\n",
      "count               940.000000           940.000000   \n",
      "mean                  0.567979             3.343191   \n",
      "std                   0.882432             2.041061   \n",
      "min                   0.000000             0.000000   \n",
      "25%                   0.000000             1.975000   \n",
      "50%                   0.200000             3.400000   \n",
      "75%                   0.800000             4.800000   \n",
      "max                   6.500000            10.700000   \n",
      "\n",
      "       SedentaryActivityDistance  VeryActiveMinutes  FairlyActiveMinutes  \\\n",
      "count                 940.000000         940.000000           940.000000   \n",
      "mean                    0.000638          21.164894            13.564894   \n",
      "std                     0.007968          32.844803            19.987404   \n",
      "min                     0.000000           0.000000             0.000000   \n",
      "25%                     0.000000           0.000000             0.000000   \n",
      "50%                     0.000000           4.000000             6.000000   \n",
      "75%                     0.000000          32.000000            19.000000   \n",
      "max                     0.100000         210.000000           143.000000   \n",
      "\n",
      "       LightlyActiveMinutes  SedentaryMinutes  \n",
      "count            940.000000        940.000000  \n",
      "mean             192.812766        991.210638  \n",
      "std              109.174700        301.267437  \n",
      "min                0.000000          0.000000  \n",
      "25%              127.000000        729.750000  \n",
      "50%              199.000000       1057.500000  \n",
      "75%              264.000000       1229.500000  \n",
      "max              518.000000       1440.000000  \n"
     ]
    }
   ],
   "source": [
    "desc = daily[['TotalDistance','LoggedActivityDistance','VeryActiveDistance','ModeatelyActiveDistance','LightActiveDistance','SedentaryActivityDistance','VeryActiveMinutes','FairlyActiveMinutes','LightlyActiveMinutes','SedentaryMinutes']].describe()\n",
    "print(desc)\n"
   ]
  },
  {
   "cell_type": "markdown",
   "id": "d1542712",
   "metadata": {},
   "source": []
  },
  {
   "cell_type": "code",
   "execution_count": null,
   "id": "2d19a283",
   "metadata": {},
   "outputs": [
    {
     "data": {
      "image/png": "[encoded data removed]",
      "text/plain": [
       "<Figure size 1000x800 with 4 Axes>"
      ]
     },
     "metadata": {},
     "output_type": "display_data"
    }
   ],
   "source": [
    "import matplotlib.pyplot as plt\n",
    "\n",
    "fig, axes = plt.subplots(2, 2, figsize=(10, 8))\n",
    "daily['TotalSteps'].hist(ax=axes[0,0]); axes[0,0].set_title('Total Steps')\n",
    "daily['Calories'].hist(ax=axes[0,1]);   axes[0,1].set_title('Calories')\n",
    "daily['VeryActiveMinutes'].hist(ax=axes[1,0]); axes[1,0].set_title('Very‑Active Minutes')\n",
    "daily['SedentaryMinutes'].hist(ax=axes[1,1]);  axes[1,1].set_title('Sedentary Minutes')\n",
    "plt.tight_layout()\n"
   ]
  },
  {
   "cell_type": "code",
   "execution_count": null,
   "id": "d5d53d6b",
   "metadata": {},
   "outputs": [
    {
     "data": {
      "image/png": "[encoded data removed]",
      "text/plain": [
       "<Figure size 500x400 with 1 Axes>"
      ]
     },
     "metadata": {},
     "output_type": "display_data"
    },
    {
     "data": {
      "text/plain": [
       "0.5915680862453354"
      ]
     },
     "execution_count": 79,
     "metadata": {},
     "output_type": "execute_result"
    }
   ],
   "source": [
    "plt.figure(figsize=(5,4))\n",
    "plt.scatter(daily['TotalSteps'],daily['Calories'],alpha = 0.6)\n",
    "plt.xlabel('TotalSteps')\n",
    "plt.ylabel('Calories')\n",
    "plt.title('Steps vs Calories buned')\n",
    "plt.show()\n",
    "daily[['TotalSteps', 'Calories']].corr().iloc[0,1]\n"
   ]
  },
  {
   "cell_type": "code",
   "execution_count": null,
   "id": "ed7e1737",
   "metadata": {},
   "outputs": [
    {
     "data": {
      "image/png": "[encoded data removed]",
      "text/plain": [
       "<Figure size 600x400 with 1 Axes>"
      ]
     },
     "metadata": {},
     "output_type": "display_data"
    }
   ],
   "source": [
    "dist_cols = ['VeryActiveDistance', 'ModeatelyActiveDistance',\n",
    "             'LightActiveDistance', 'SedentaryActivityDistance']\n",
    "dist_pct = daily[dist_cols].div(daily['TotalDistance'], axis=0).mean().sort_values(ascending=False)\n",
    "\n",
    "dist_pct.plot(kind='bar', figsize=(6,4), title='Average Distance Mix')\n",
    "plt.ylabel('Share of Total Distance')\n",
    "plt.show()\n"
   ]
  },
  {
   "cell_type": "code",
   "execution_count": null,
   "id": "b98f85ef",
   "metadata": {},
   "outputs": [
    {
     "data": {
      "text/html": [
       "<div>\n",
       "<style scoped>\n",
       "    .dataframe tbody tr th:only-of-type {\n",
       "        vertical-align: middle;\n",
       "    }\n",
       "\n",
       "    .dataframe tbody tr th {\n",
       "        vertical-align: top;\n",
       "    }\n",
       "\n",
       "    .dataframe thead th {\n",
       "        text-align: right;\n",
       "    }\n",
       "</style>\n",
       "<table border=\"1\" class=\"dataframe\">\n",
       "  <thead>\n",
       "    <tr style=\"text-align: right;\">\n",
       "      <th></th>\n",
       "      <th>Date</th>\n",
       "      <th>DayOfWeek</th>\n",
       "      <th>DayType</th>\n",
       "    </tr>\n",
       "  </thead>\n",
       "  <tbody>\n",
       "    <tr>\n",
       "      <th>0</th>\n",
       "      <td>2016-04-12</td>\n",
       "      <td>1</td>\n",
       "      <td>Weekday</td>\n",
       "    </tr>\n",
       "    <tr>\n",
       "      <th>1</th>\n",
       "      <td>2016-04-13</td>\n",
       "      <td>2</td>\n",
       "      <td>Weekday</td>\n",
       "    </tr>\n",
       "    <tr>\n",
       "      <th>2</th>\n",
       "      <td>2016-04-14</td>\n",
       "      <td>3</td>\n",
       "      <td>Weekday</td>\n",
       "    </tr>\n",
       "    <tr>\n",
       "      <th>3</th>\n",
       "      <td>2016-04-15</td>\n",
       "      <td>4</td>\n",
       "      <td>Weekday</td>\n",
       "    </tr>\n",
       "    <tr>\n",
       "      <th>4</th>\n",
       "      <td>2016-04-16</td>\n",
       "      <td>5</td>\n",
       "      <td>Weekend</td>\n",
       "    </tr>\n",
       "  </tbody>\n",
       "</table>\n",
       "</div>"
      ],
      "text/plain": [
       "        Date  DayOfWeek  DayType\n",
       "0 2016-04-12          1  Weekday\n",
       "1 2016-04-13          2  Weekday\n",
       "2 2016-04-14          3  Weekday\n",
       "3 2016-04-15          4  Weekday\n",
       "4 2016-04-16          5  Weekend"
      ]
     },
     "execution_count": 81,
     "metadata": {},
     "output_type": "execute_result"
    }
   ],
   "source": [
    "\n",
    "# Create a proper date column (assuming the year is 2016, as in the original Fitbit dataset)\n",
    "daily['Date'] = pd.to_datetime({'year': 2016, 'month': daily['Month'], 'day': daily['Day']})\n",
    "# Extract the day of the week (0 = Monday, 6 = Sunday)\n",
    "daily['DayOfWeek'] = daily['Date'].dt.dayofweek\n",
    "# Label weekday vs weekend\n",
    "daily['DayType'] = daily['DayOfWeek'].apply(lambda x: 'Weekend' if x >= 5 else 'Weekday')\n",
    "daily[['Date', 'DayOfWeek', 'DayType']].head()\n",
    "\n"
   ]
  },
  {
   "cell_type": "code",
   "execution_count": null,
   "id": "ed376598",
   "metadata": {},
   "outputs": [
    {
     "data": {
      "image/png": "[encoded data removed]",
      "text/plain": [
       "<Figure size 640x480 with 1 Axes>"
      ]
     },
     "metadata": {},
     "output_type": "display_data"
    }
   ],
   "source": [
    "sns.boxplot(x='DayType', y='TotalSteps', data=daily)\n",
    "plt.title('Steps on Weekdays vs Weekends')\n",
    "plt.show()"
   ]
  },
  {
   "cell_type": "code",
   "execution_count": null,
   "id": "823b88b6",
   "metadata": {},
   "outputs": [
    {
     "data": {
      "text/plain": [
       "DayType\n",
       "Weekday    2301.516547\n",
       "Weekend    2309.546939\n",
       "Name: Calories, dtype: float64"
      ]
     },
     "execution_count": 83,
     "metadata": {},
     "output_type": "execute_result"
    }
   ],
   "source": [
    "daily.groupby('DayType')['TotalSteps'].mean()\n",
    "daily.groupby('DayType')['Calories'].mean()\n"
   ]
  },
  {
   "cell_type": "code",
   "execution_count": null,
   "id": "edbff4db",
   "metadata": {},
   "outputs": [
    {
     "data": {
      "image/png": "[encoded data removed]",
      "text/plain": [
       "<Figure size 800x600 with 2 Axes>"
      ]
     },
     "metadata": {},
     "output_type": "display_data"
    }
   ],
   "source": [
    "import seaborn as sns\n",
    "plt.figure(figsize=(8,6))\n",
    "sns.heatmap(daily[['TotalSteps','VeryActiveMinutes','FairlyActiveMinutes',\n",
    "                   'LightlyActiveMinutes','SedentaryMinutes','Calories']].corr(),\n",
    "            annot=True, fmt=\".2f\", vmin=-1, vmax=1)\n",
    "plt.title('Correlation Matrix')\n",
    "plt.show()\n"
   ]
  },
  {
   "cell_type": "markdown",
   "id": "71823c18",
   "metadata": {},
   "source": [
    "##### Hourly calories"
   ]
  },
  {
   "cell_type": "code",
   "execution_count": null,
   "id": "f169f3b7",
   "metadata": {},
   "outputs": [
    {
     "data": {
      "text/html": [
       "<div>\n",
       "<style scoped>\n",
       "    .dataframe tbody tr th:only-of-type {\n",
       "        vertical-align: middle;\n",
       "    }\n",
       "\n",
       "    .dataframe tbody tr th {\n",
       "        vertical-align: top;\n",
       "    }\n",
       "\n",
       "    .dataframe thead th {\n",
       "        text-align: right;\n",
       "    }\n",
       "</style>\n",
       "<table border=\"1\" class=\"dataframe\">\n",
       "  <thead>\n",
       "    <tr style=\"text-align: right;\">\n",
       "      <th></th>\n",
       "      <th>Id</th>\n",
       "      <th>Calories</th>\n",
       "      <th>Month</th>\n",
       "      <th>Day</th>\n",
       "      <th>Hour</th>\n",
       "    </tr>\n",
       "  </thead>\n",
       "  <tbody>\n",
       "    <tr>\n",
       "      <th>0</th>\n",
       "      <td>1503960366</td>\n",
       "      <td>81</td>\n",
       "      <td>4</td>\n",
       "      <td>12</td>\n",
       "      <td>0</td>\n",
       "    </tr>\n",
       "    <tr>\n",
       "      <th>1</th>\n",
       "      <td>1503960366</td>\n",
       "      <td>61</td>\n",
       "      <td>4</td>\n",
       "      <td>12</td>\n",
       "      <td>1</td>\n",
       "    </tr>\n",
       "  </tbody>\n",
       "</table>\n",
       "</div>"
      ],
      "text/plain": [
       "           Id  Calories  Month  Day  Hour\n",
       "0  1503960366        81      4   12     0\n",
       "1  1503960366        61      4   12     1"
      ]
     },
     "execution_count": 85,
     "metadata": {},
     "output_type": "execute_result"
    }
   ],
   "source": [
    "Hcalories.head(2)"
   ]
  },
  {
   "cell_type": "code",
   "execution_count": null,
   "id": "b0ae4872",
   "metadata": {},
   "outputs": [
    {
     "data": {
      "text/html": [
       "<div>\n",
       "<style scoped>\n",
       "    .dataframe tbody tr th:only-of-type {\n",
       "        vertical-align: middle;\n",
       "    }\n",
       "\n",
       "    .dataframe tbody tr th {\n",
       "        vertical-align: top;\n",
       "    }\n",
       "\n",
       "    .dataframe thead th {\n",
       "        text-align: right;\n",
       "    }\n",
       "</style>\n",
       "<table border=\"1\" class=\"dataframe\">\n",
       "  <thead>\n",
       "    <tr style=\"text-align: right;\">\n",
       "      <th></th>\n",
       "      <th>Calories</th>\n",
       "      <th>Month</th>\n",
       "      <th>Day</th>\n",
       "      <th>Hour</th>\n",
       "    </tr>\n",
       "  </thead>\n",
       "  <tbody>\n",
       "    <tr>\n",
       "      <th>count</th>\n",
       "      <td>22099.000000</td>\n",
       "      <td>22099.000000</td>\n",
       "      <td>22099.000000</td>\n",
       "      <td>22099.000000</td>\n",
       "    </tr>\n",
       "    <tr>\n",
       "      <th>mean</th>\n",
       "      <td>97.386760</td>\n",
       "      <td>4.338748</td>\n",
       "      <td>15.852663</td>\n",
       "      <td>11.415765</td>\n",
       "    </tr>\n",
       "    <tr>\n",
       "      <th>std</th>\n",
       "      <td>60.702622</td>\n",
       "      <td>0.473295</td>\n",
       "      <td>8.567610</td>\n",
       "      <td>6.915140</td>\n",
       "    </tr>\n",
       "    <tr>\n",
       "      <th>min</th>\n",
       "      <td>42.000000</td>\n",
       "      <td>4.000000</td>\n",
       "      <td>1.000000</td>\n",
       "      <td>0.000000</td>\n",
       "    </tr>\n",
       "    <tr>\n",
       "      <th>25%</th>\n",
       "      <td>63.000000</td>\n",
       "      <td>4.000000</td>\n",
       "      <td>9.000000</td>\n",
       "      <td>5.000000</td>\n",
       "    </tr>\n",
       "    <tr>\n",
       "      <th>50%</th>\n",
       "      <td>83.000000</td>\n",
       "      <td>4.000000</td>\n",
       "      <td>16.000000</td>\n",
       "      <td>11.000000</td>\n",
       "    </tr>\n",
       "    <tr>\n",
       "      <th>75%</th>\n",
       "      <td>108.000000</td>\n",
       "      <td>5.000000</td>\n",
       "      <td>23.000000</td>\n",
       "      <td>17.000000</td>\n",
       "    </tr>\n",
       "    <tr>\n",
       "      <th>max</th>\n",
       "      <td>948.000000</td>\n",
       "      <td>5.000000</td>\n",
       "      <td>30.000000</td>\n",
       "      <td>23.000000</td>\n",
       "    </tr>\n",
       "  </tbody>\n",
       "</table>\n",
       "</div>"
      ],
      "text/plain": [
       "           Calories         Month           Day          Hour\n",
       "count  22099.000000  22099.000000  22099.000000  22099.000000\n",
       "mean      97.386760      4.338748     15.852663     11.415765\n",
       "std       60.702622      0.473295      8.567610      6.915140\n",
       "min       42.000000      4.000000      1.000000      0.000000\n",
       "25%       63.000000      4.000000      9.000000      5.000000\n",
       "50%       83.000000      4.000000     16.000000     11.000000\n",
       "75%      108.000000      5.000000     23.000000     17.000000\n",
       "max      948.000000      5.000000     30.000000     23.000000"
      ]
     },
     "execution_count": 86,
     "metadata": {},
     "output_type": "execute_result"
    }
   ],
   "source": [
    "Hcalories[['Calories','Month','Day','Hour']].describe()"
   ]
  },
  {
   "cell_type": "code",
   "execution_count": null,
   "id": "64303af0",
   "metadata": {},
   "outputs": [
    {
     "data": {
      "text/plain": [
       "<Axes: xlabel='Hour'>"
      ]
     },
     "execution_count": 87,
     "metadata": {},
     "output_type": "execute_result"
    },
    {
     "data": {
      "image/png": "[encoded data removed]",
      "text/plain": [
       "<Figure size 640x480 with 1 Axes>"
      ]
     },
     "metadata": {},
     "output_type": "display_data"
    }
   ],
   "source": [
    "Hcalories.groupby('Hour')['Calories'].mean().plot(kind='line', marker='o')"
   ]
  },
  {
   "cell_type": "code",
   "execution_count": null,
   "id": "48e00694",
   "metadata": {},
   "outputs": [
    {
     "data": {
      "image/png": "[encoded data removed]",
      "text/plain": [
       "<Figure size 1000x400 with 1 Axes>"
      ]
     },
     "metadata": {},
     "output_type": "display_data"
    }
   ],
   "source": [
    "\n",
    "Hcalories['Datetime'] = pd.to_datetime(\n",
    "    {'year': 2016,\n",
    "     'month': Hcalories['Month'],\n",
    "     'day':   Hcalories['Day'],\n",
    "     'hour':  Hcalories['Hour']}\n",
    ")\n",
    "\n",
    "day_totals = (\n",
    "    Hcalories\n",
    "      .groupby('Day')['Calories']        \n",
    "      .sum()                             \n",
    "      .sort_index()\n",
    ")\n",
    "\n",
    "\n",
    "import matplotlib.pyplot as plt\n",
    "\n",
    "plt.figure(figsize=(10,4))\n",
    "day_totals.plot(kind='bar')             \n",
    "plt.title('Total Calories Burned by Calendar Day')\n",
    "plt.xlabel('Day of Month (1–31)')\n",
    "plt.ylabel('Total Calories (kcal)')\n",
    "plt.xticks(rotation=0)\n",
    "plt.tight_layout()\n",
    "plt.show()\n"
   ]
  },
  {
   "cell_type": "markdown",
   "id": "40b33418",
   "metadata": {},
   "source": [
    "##### Intensive Hour"
   ]
  },
  {
   "cell_type": "code",
   "execution_count": null,
   "id": "9e9b983b",
   "metadata": {},
   "outputs": [
    {
     "data": {
      "text/html": [
       "<div>\n",
       "<style scoped>\n",
       "    .dataframe tbody tr th:only-of-type {\n",
       "        vertical-align: middle;\n",
       "    }\n",
       "\n",
       "    .dataframe tbody tr th {\n",
       "        vertical-align: top;\n",
       "    }\n",
       "\n",
       "    .dataframe thead th {\n",
       "        text-align: right;\n",
       "    }\n",
       "</style>\n",
       "<table border=\"1\" class=\"dataframe\">\n",
       "  <thead>\n",
       "    <tr style=\"text-align: right;\">\n",
       "      <th></th>\n",
       "      <th>Id</th>\n",
       "      <th>StepTotal</th>\n",
       "      <th>Month</th>\n",
       "      <th>Day</th>\n",
       "      <th>Hour</th>\n",
       "    </tr>\n",
       "  </thead>\n",
       "  <tbody>\n",
       "    <tr>\n",
       "      <th>0</th>\n",
       "      <td>1503960366</td>\n",
       "      <td>373</td>\n",
       "      <td>4</td>\n",
       "      <td>12</td>\n",
       "      <td>0</td>\n",
       "    </tr>\n",
       "    <tr>\n",
       "      <th>1</th>\n",
       "      <td>1503960366</td>\n",
       "      <td>160</td>\n",
       "      <td>4</td>\n",
       "      <td>12</td>\n",
       "      <td>1</td>\n",
       "    </tr>\n",
       "    <tr>\n",
       "      <th>2</th>\n",
       "      <td>1503960366</td>\n",
       "      <td>151</td>\n",
       "      <td>4</td>\n",
       "      <td>12</td>\n",
       "      <td>2</td>\n",
       "    </tr>\n",
       "    <tr>\n",
       "      <th>3</th>\n",
       "      <td>1503960366</td>\n",
       "      <td>0</td>\n",
       "      <td>4</td>\n",
       "      <td>12</td>\n",
       "      <td>3</td>\n",
       "    </tr>\n",
       "    <tr>\n",
       "      <th>4</th>\n",
       "      <td>1503960366</td>\n",
       "      <td>0</td>\n",
       "      <td>4</td>\n",
       "      <td>12</td>\n",
       "      <td>4</td>\n",
       "    </tr>\n",
       "  </tbody>\n",
       "</table>\n",
       "</div>"
      ],
      "text/plain": [
       "           Id  StepTotal  Month  Day  Hour\n",
       "0  1503960366        373      4   12     0\n",
       "1  1503960366        160      4   12     1\n",
       "2  1503960366        151      4   12     2\n",
       "3  1503960366          0      4   12     3\n",
       "4  1503960366          0      4   12     4"
      ]
     },
     "execution_count": 89,
     "metadata": {},
     "output_type": "execute_result"
    }
   ],
   "source": [
    "Hintensity.head()"
   ]
  },
  {
   "cell_type": "code",
   "execution_count": null,
   "id": "3b670348",
   "metadata": {},
   "outputs": [
    {
     "data": {
      "text/html": [
       "<div>\n",
       "<style scoped>\n",
       "    .dataframe tbody tr th:only-of-type {\n",
       "        vertical-align: middle;\n",
       "    }\n",
       "\n",
       "    .dataframe tbody tr th {\n",
       "        vertical-align: top;\n",
       "    }\n",
       "\n",
       "    .dataframe thead th {\n",
       "        text-align: right;\n",
       "    }\n",
       "</style>\n",
       "<table border=\"1\" class=\"dataframe\">\n",
       "  <thead>\n",
       "    <tr style=\"text-align: right;\">\n",
       "      <th></th>\n",
       "      <th>Id</th>\n",
       "      <th>StepTotal</th>\n",
       "      <th>Month</th>\n",
       "      <th>Day</th>\n",
       "      <th>Hour</th>\n",
       "    </tr>\n",
       "  </thead>\n",
       "  <tbody>\n",
       "    <tr>\n",
       "      <th>0</th>\n",
       "      <td>1503960366</td>\n",
       "      <td>373</td>\n",
       "      <td>4</td>\n",
       "      <td>12</td>\n",
       "      <td>0</td>\n",
       "    </tr>\n",
       "    <tr>\n",
       "      <th>1</th>\n",
       "      <td>1503960366</td>\n",
       "      <td>160</td>\n",
       "      <td>4</td>\n",
       "      <td>12</td>\n",
       "      <td>1</td>\n",
       "    </tr>\n",
       "    <tr>\n",
       "      <th>2</th>\n",
       "      <td>1503960366</td>\n",
       "      <td>151</td>\n",
       "      <td>4</td>\n",
       "      <td>12</td>\n",
       "      <td>2</td>\n",
       "    </tr>\n",
       "  </tbody>\n",
       "</table>\n",
       "</div>"
      ],
      "text/plain": [
       "           Id  StepTotal  Month  Day  Hour\n",
       "0  1503960366        373      4   12     0\n",
       "1  1503960366        160      4   12     1\n",
       "2  1503960366        151      4   12     2"
      ]
     },
     "execution_count": 90,
     "metadata": {},
     "output_type": "execute_result"
    }
   ],
   "source": [
    "Hintensity.head(3)"
   ]
  },
  {
   "cell_type": "code",
   "execution_count": null,
   "id": "a52474df",
   "metadata": {},
   "outputs": [
    {
     "name": "stdout",
     "output_type": "stream",
     "text": [
      "Peak-to‑valley ratio: 93.2×\n"
     ]
    }
   ],
   "source": [
    "# Average steps for each clock hour (0‑23)\n",
    "hourly_pattern = (\n",
    "    Hintensity.groupby('Hour')['StepTotal']\n",
    "              .mean()\n",
    "              .reset_index()\n",
    ")\n",
    "\n",
    "# How peaky is it?\n",
    "peak_to_valley = hourly_pattern['StepTotal'].max() / hourly_pattern['StepTotal'].min()\n",
    "print(f\"Peak-to‑valley ratio: {peak_to_valley:.1f}×\")\n"
   ]
  },
  {
   "cell_type": "code",
   "execution_count": null,
   "id": "a6dedb0d",
   "metadata": {},
   "outputs": [
    {
     "data": {
      "image/png": "[encoded data removed]",
      "text/plain": [
       "<Figure size 800x400 with 1 Axes>"
      ]
     },
     "metadata": {},
     "output_type": "display_data"
    }
   ],
   "source": [
    "import matplotlib.pyplot as plt\n",
    "\n",
    "hourly_pattern = (\n",
    "    Hintensity.groupby('Hour')['StepTotal']\n",
    "              .mean()\n",
    "              .reset_index()\n",
    ")\n",
    "\n",
    "plt.figure(figsize=(8, 4))\n",
    "plt.plot(hourly_pattern['Hour'], hourly_pattern['StepTotal'], marker='o')\n",
    "plt.title('Average Steps by Hour of Day')\n",
    "plt.xlabel('Hour (0–23)')\n",
    "plt.ylabel('Average Steps')\n",
    "plt.grid(True)\n",
    "plt.xticks(range(0, 24))\n",
    "plt.tight_layout()\n",
    "plt.show()\n"
   ]
  },
  {
   "cell_type": "markdown",
   "id": "914688ca",
   "metadata": {},
   "source": [
    "##### METs\n",
    "\n",
    "Metabolic Equivalent of Task. A unit that expresses how much energy an activity uses relative to resting. 1 MET ≈ the energy you burn at rest.\n"
   ]
  },
  {
   "cell_type": "code",
   "execution_count": null,
   "id": "c9a252eb",
   "metadata": {},
   "outputs": [
    {
     "data": {
      "text/html": [
       "<div>\n",
       "<style scoped>\n",
       "    .dataframe tbody tr th:only-of-type {\n",
       "        vertical-align: middle;\n",
       "    }\n",
       "\n",
       "    .dataframe tbody tr th {\n",
       "        vertical-align: top;\n",
       "    }\n",
       "\n",
       "    .dataframe thead th {\n",
       "        text-align: right;\n",
       "    }\n",
       "</style>\n",
       "<table border=\"1\" class=\"dataframe\">\n",
       "  <thead>\n",
       "    <tr style=\"text-align: right;\">\n",
       "      <th></th>\n",
       "      <th>Id</th>\n",
       "      <th>METs</th>\n",
       "      <th>Month</th>\n",
       "      <th>Day</th>\n",
       "      <th>Hour</th>\n",
       "      <th>Minute</th>\n",
       "    </tr>\n",
       "  </thead>\n",
       "  <tbody>\n",
       "    <tr>\n",
       "      <th>0</th>\n",
       "      <td>1503960366</td>\n",
       "      <td>10</td>\n",
       "      <td>4</td>\n",
       "      <td>12</td>\n",
       "      <td>0</td>\n",
       "      <td>0</td>\n",
       "    </tr>\n",
       "    <tr>\n",
       "      <th>1</th>\n",
       "      <td>1503960366</td>\n",
       "      <td>10</td>\n",
       "      <td>4</td>\n",
       "      <td>12</td>\n",
       "      <td>0</td>\n",
       "      <td>1</td>\n",
       "    </tr>\n",
       "    <tr>\n",
       "      <th>2</th>\n",
       "      <td>1503960366</td>\n",
       "      <td>10</td>\n",
       "      <td>4</td>\n",
       "      <td>12</td>\n",
       "      <td>0</td>\n",
       "      <td>2</td>\n",
       "    </tr>\n",
       "  </tbody>\n",
       "</table>\n",
       "</div>"
      ],
      "text/plain": [
       "           Id  METs  Month  Day  Hour  Minute\n",
       "0  1503960366    10      4   12     0       0\n",
       "1  1503960366    10      4   12     0       1\n",
       "2  1503960366    10      4   12     0       2"
      ]
     },
     "execution_count": 93,
     "metadata": {},
     "output_type": "execute_result"
    }
   ],
   "source": [
    "Mmet.head(3)"
   ]
  },
  {
   "cell_type": "code",
   "execution_count": null,
   "id": "4f7037e4",
   "metadata": {},
   "outputs": [
    {
     "data": {
      "text/plain": [
       "array([ 10,  12,  26,  32,  36,  30,  28,  34,  24,  76,  85,  97,  99,\n",
       "        90,  40,  66,  78,  58,  42,  56,  64,  50,  52,  38,  54,  44,\n",
       "        62,  48,  81,  60,  72,  89,  80,  74,  91,  79,  68,  70,  83,\n",
       "        88, 107, 111,  86,  93,  82,  92,  95,  87,  84, 103, 101,  96,\n",
       "       109,  98, 105, 100,  46,  59,  55,  61,  73,  77,  75,  65,  57,\n",
       "       104, 102,   0,  67,  69,  63,  71,  20,  18,  16,  22,  14,  15,\n",
       "         6,  11,  13,  45,  53,  39,  33,  41,  37,  94, 120, 126, 106,\n",
       "        43,  31, 113, 115, 117,  35, 114,  47,  49, 146, 144, 140, 138,\n",
       "       132, 130, 128, 124, 122, 110, 136, 121, 119, 108,  51, 112,  29,\n",
       "        27, 149, 157, 153, 123, 127, 135, 131, 129, 125, 137, 133, 118,\n",
       "       116, 141, 134,  21], dtype=int64)"
      ]
     },
     "execution_count": 94,
     "metadata": {},
     "output_type": "execute_result"
    }
   ],
   "source": [
    "Mmet['METs'].unique()"
   ]
  },
  {
   "cell_type": "code",
   "execution_count": null,
   "id": "9b0d8aab",
   "metadata": {},
   "outputs": [],
   "source": [
    "Mmet['MET'] = Mmet['METs'] / 10\n",
    "Mmet.drop(columns='METs', inplace=True)\n",
    "\n"
   ]
  },
  {
   "cell_type": "code",
   "execution_count": null,
   "id": "e3a4a81c",
   "metadata": {},
   "outputs": [],
   "source": [
    "Mmet['Datetime'] = pd.to_datetime({\n",
    "    'year':   2016,\n",
    "    'month':  Mmet['Month'],\n",
    "    'day':    Mmet['Day'],\n",
    "    'hour':   Mmet['Hour'],\n",
    "    'minute': Mmet['Minute']\n",
    "})\n",
    "Mmet.set_index('Datetime', inplace=True)"
   ]
  },
  {
   "cell_type": "code",
   "execution_count": null,
   "id": "dc43cfdb",
   "metadata": {},
   "outputs": [
    {
     "data": {
      "image/png": "[encoded data removed]",
      "text/plain": [
       "<Figure size 600x300 with 1 Axes>"
      ]
     },
     "metadata": {},
     "output_type": "display_data"
    }
   ],
   "source": [
    "plt.figure(figsize=(6,3))\n",
    "Mmet['MET'].hist(bins=30)\n",
    "plt.title('Minute‑level MET Distribution')\n",
    "plt.xlabel('MET value (1 = rest)')\n",
    "plt.ylabel('Number of minutes')\n",
    "plt.tight_layout(); plt.show()\n"
   ]
  },
  {
   "cell_type": "code",
   "execution_count": null,
   "id": "177e4b8c",
   "metadata": {},
   "outputs": [
    {
     "name": "stdout",
     "output_type": "stream",
     "text": [
      "100.0% of user‑weeks meet the 500 MET‑min guideline\n"
     ]
    }
   ],
   "source": [
    "# 1 minute at X METs = X MET‑minutes\n",
    "weekly_metmin = (\n",
    "    Mmet.groupby(['Id', Mmet.index.isocalendar().week])['MET']\n",
    "        .sum()\n",
    "        .reset_index(name='MET_min')\n",
    ")\n",
    "share_meeting = (weekly_metmin['MET_min'] >= 500).mean() * 100\n",
    "print(f\"{share_meeting:.1f}% of user‑weeks meet the 500 MET‑min guideline\")\n"
   ]
  },
  {
   "cell_type": "markdown",
   "id": "55d4c191",
   "metadata": {},
   "source": [
    "##### sleep per minute\n",
    "we wont be taking this as its not relevent for this analysis"
   ]
  },
  {
   "cell_type": "markdown",
   "id": "75f19a1e",
   "metadata": {},
   "source": [
    "##### Sleep per day"
   ]
  },
  {
   "cell_type": "code",
   "execution_count": null,
   "id": "6c35e331",
   "metadata": {},
   "outputs": [
    {
     "data": {
      "text/html": [
       "<div>\n",
       "<style scoped>\n",
       "    .dataframe tbody tr th:only-of-type {\n",
       "        vertical-align: middle;\n",
       "    }\n",
       "\n",
       "    .dataframe tbody tr th {\n",
       "        vertical-align: top;\n",
       "    }\n",
       "\n",
       "    .dataframe thead th {\n",
       "        text-align: right;\n",
       "    }\n",
       "</style>\n",
       "<table border=\"1\" class=\"dataframe\">\n",
       "  <thead>\n",
       "    <tr style=\"text-align: right;\">\n",
       "      <th></th>\n",
       "      <th>Id</th>\n",
       "      <th>TotalSleepRecords</th>\n",
       "      <th>TotalMinutesAsleep</th>\n",
       "      <th>TotalTimeInBed</th>\n",
       "      <th>Month</th>\n",
       "      <th>Day</th>\n",
       "    </tr>\n",
       "  </thead>\n",
       "  <tbody>\n",
       "    <tr>\n",
       "      <th>0</th>\n",
       "      <td>1503960366</td>\n",
       "      <td>1</td>\n",
       "      <td>327</td>\n",
       "      <td>346</td>\n",
       "      <td>4</td>\n",
       "      <td>12</td>\n",
       "    </tr>\n",
       "    <tr>\n",
       "      <th>1</th>\n",
       "      <td>1503960366</td>\n",
       "      <td>2</td>\n",
       "      <td>384</td>\n",
       "      <td>407</td>\n",
       "      <td>4</td>\n",
       "      <td>13</td>\n",
       "    </tr>\n",
       "  </tbody>\n",
       "</table>\n",
       "</div>"
      ],
      "text/plain": [
       "           Id  TotalSleepRecords  TotalMinutesAsleep  TotalTimeInBed  Month  \\\n",
       "0  1503960366                  1                 327             346      4   \n",
       "1  1503960366                  2                 384             407      4   \n",
       "\n",
       "   Day  \n",
       "0   12  \n",
       "1   13  "
      ]
     },
     "execution_count": 99,
     "metadata": {},
     "output_type": "execute_result"
    }
   ],
   "source": [
    "Dsleep.head(2)"
   ]
  },
  {
   "cell_type": "code",
   "execution_count": null,
   "id": "7e4f3691",
   "metadata": {},
   "outputs": [],
   "source": [
    "Dsleep['Date'] = pd.to_datetime({'year': 2016,\n",
    "                                  'month': Dsleep['Month'],\n",
    "                                  'day': Dsleep['Day']})"
   ]
  },
  {
   "cell_type": "code",
   "execution_count": null,
   "id": "a4344b9b",
   "metadata": {},
   "outputs": [
    {
     "data": {
      "image/png": "[encoded data removed]",
      "text/plain": [
       "<Figure size 1000x400 with 1 Axes>"
      ]
     },
     "metadata": {},
     "output_type": "display_data"
    }
   ],
   "source": [
    "plt.figure(figsize=(10, 4))\n",
    "Dsleep.groupby('Day')['TotalMinutesAsleep'].mean().plot(kind='bar')\n",
    "plt.title('Average Sleep Duration by Calendar Day')\n",
    "plt.xlabel('Day of Month (1–31)')\n",
    "plt.ylabel('Minutes Asleep')\n",
    "plt.xticks(rotation=0)\n",
    "plt.tight_layout()\n",
    "plt.show()"
   ]
  },
  {
   "cell_type": "code",
   "execution_count": null,
   "id": "e44d813e",
   "metadata": {},
   "outputs": [
    {
     "data": {
      "image/png": "[encoded data removed]",
      "text/plain": [
       "<Figure size 600x400 with 1 Axes>"
      ]
     },
     "metadata": {},
     "output_type": "display_data"
    }
   ],
   "source": [
    "plt.figure(figsize=(6, 4))\n",
    "plt.scatter(Dsleep['TotalTimeInBed'], Dsleep['TotalMinutesAsleep'], alpha=0.5)\n",
    "plt.title('Time in Bed vs Minutes Asleep')\n",
    "plt.xlabel('Total Time in Bed (minutes)')\n",
    "plt.ylabel('Total Minutes Asleep')\n",
    "plt.grid(True)\n",
    "plt.tight_layout()\n",
    "plt.show()\n"
   ]
  },
  {
   "cell_type": "code",
   "execution_count": null,
   "id": "019768cf",
   "metadata": {},
   "outputs": [
    {
     "data": {
      "image/png": "[encoded data removed]",
      "text/plain": [
       "<Figure size 640x480 with 1 Axes>"
      ]
     },
     "metadata": {},
     "output_type": "display_data"
    }
   ],
   "source": [
    "Dsleep['SleepEfficiency'] = Dsleep['TotalMinutesAsleep'] / Dsleep['TotalTimeInBed']\n",
    "Dsleep['SleepEfficiency'].hist(bins=20)\n",
    "plt.title('Sleep Efficiency Distribution')\n",
    "plt.xlabel('Efficiency (0–1)')\n",
    "plt.ylabel('Number of Users per Day')\n",
    "plt.tight_layout(); plt.show()\n",
    "\n"
   ]
  },
  {
   "cell_type": "code",
   "execution_count": null,
   "id": "aaecd4d5",
   "metadata": {},
   "outputs": [
    {
     "data": {
      "image/png": "[encoded data removed]",
      "text/plain": [
       "<Figure size 640x480 with 1 Axes>"
      ]
     },
     "metadata": {},
     "output_type": "display_data"
    }
   ],
   "source": [
    "# Extract day of week\n",
    "Dsleep['DayOfWeek'] = Dsleep['Date'].dt.dayofweek\n",
    "Dsleep['DayType'] = Dsleep['DayOfWeek'].apply(lambda x: 'Weekend' if x >= 5 else 'Weekday')\n",
    "\n",
    "# Plot\n",
    "import seaborn as sns\n",
    "\n",
    "sns.boxplot(x='DayType', y='TotalMinutesAsleep', data=Dsleep)\n",
    "plt.title('Sleep Duration: Weekday vs Weekend')\n",
    "plt.xlabel('')\n",
    "plt.ylabel('Minutes Asleep')\n",
    "plt.tight_layout(); plt.show()\n"
   ]
  },
  {
   "cell_type": "markdown",
   "id": "329602f4",
   "metadata": {},
   "source": [
    "##### weight\n",
    "we dont need for analysis"
   ]
  },
  {
   "cell_type": "markdown",
   "id": "8e863b49",
   "metadata": {},
   "source": [
    "### Multimodal Analysis"
   ]
  },
  {
   "cell_type": "markdown",
   "id": "f65417fe",
   "metadata": {},
   "source": [
    "1) Do nights with ≥ 7 h of sleep lead to fewer sedentary minutes the next day?\n",
    "\n",
    "Daily x sleep per day"
   ]
  },
  {
   "cell_type": "code",
   "execution_count": null,
   "id": "17e65410",
   "metadata": {},
   "outputs": [
    {
     "name": "stderr",
     "output_type": "stream",
     "text": [
      "C:\\Users\\hp\\AppData\\Local\\Temp\\ipykernel_9540\\165274923.py:27: FutureWarning: \n",
      "\n",
      "Passing `palette` without assigning `hue` is deprecated and will be removed in v0.14.0. Assign the `x` variable to `hue` and set `legend=False` for the same effect.\n",
      "\n",
      "  sns.boxplot(x='Over7hSleep', y='SedentaryMinutes', data=merged,\n"
     ]
    },
    {
     "data": {
      "image/png": "[encoded data removed]",
      "text/plain": [
       "<Figure size 500x400 with 1 Axes>"
      ]
     },
     "metadata": {},
     "output_type": "display_data"
    },
    {
     "name": "stdout",
     "output_type": "stream",
     "text": [
      "Average reduction in sedentary time after ≥7 h sleep: 43 minutes\n"
     ]
    }
   ],
   "source": [
    "\n",
    "# 1.  Build proper Date columns in both tables\n",
    "daily  ['Date'] = pd.to_datetime({'year': 2016,\n",
    "                                  'month': daily ['Month'],\n",
    "                                  'day':   daily ['Day']})\n",
    "\n",
    "Dsleep['Date'] = pd.to_datetime({'year': 2016,\n",
    "                                  'month': Dsleep['Month'],\n",
    "                                  'day':   Dsleep['Day']})\n",
    "\n",
    "# 2.  Shift sleep forward by 1 day so it matches\n",
    "#     TOMORROW's activity (next‑day effect)\n",
    "Dsleep_shift = Dsleep.copy()\n",
    "Dsleep_shift['Date'] = Dsleep_shift['Date'] + pd.Timedelta(days=1)\n",
    "\n",
    "# 3.  Merge → one row per user‑day with last‑night sleep\n",
    "merged = pd.merge(daily,\n",
    "                  Dsleep_shift[['Id','Date','TotalMinutesAsleep']],\n",
    "                  on=['Id','Date'],\n",
    "                  how='inner')\n",
    "\n",
    "# 4.  Flag nights with ≥ 7 h sleep  (420 min)\n",
    "merged['Over7hSleep'] = merged['TotalMinutesAsleep'] >= 420\n",
    "\n",
    "# 5.  Box‑plot of next‑day Sedentary Minutes\n",
    "\n",
    "plt.figure(figsize=(5,4))\n",
    "sns.boxplot(x='Over7hSleep', y='SedentaryMinutes', data=merged,\n",
    "            palette='pastel')\n",
    "plt.title('Next‑Day Sedentary Minutes\\nby Previous‑Night Sleep Duration')\n",
    "plt.xlabel('Previous night slept ≥ 7 h?')\n",
    "plt.ylabel('Sedentary Minutes (next day)')\n",
    "plt.xticks([0,1], ['< 7 h','≥ 7 h'])\n",
    "plt.tight_layout(); plt.show()\n",
    "\n",
    "# 6.  Print mean difference for your slide caption\n",
    "means = merged.groupby('Over7hSleep')['SedentaryMinutes'].mean()\n",
    "diff  = means.loc[False] - means.loc[True]\n",
    "print(f\"Average reduction in sedentary time after ≥7 h sleep: {diff:.0f} minutes\")\n"
   ]
  },
  {
   "cell_type": "markdown",
   "id": "f835b8ed",
   "metadata": {},
   "source": [
    "2) daily x dsleep\n",
    "\n",
    "“Weekend catch‑up effect”\n",
    "(Do users who sleep poorly on weekdays work out harder on weekends?)"
   ]
  },
  {
   "cell_type": "code",
   "execution_count": null,
   "id": "8e3fb961",
   "metadata": {},
   "outputs": [
    {
     "data": {
      "image/png": "[encoded data removed]",
      "text/plain": [
       "<Figure size 600x400 with 1 Axes>"
      ]
     },
     "metadata": {},
     "output_type": "display_data"
    },
    {
     "name": "stdout",
     "output_type": "stream",
     "text": [
      "Correlation (weekday sleep efficiency  vs weekend VAMin): 0.22\n"
     ]
    }
   ],
   "source": [
    "\n",
    "# -------------------------------------------------\n",
    "# 1. Build Date columns\n",
    "# -------------------------------------------------\n",
    "daily  ['Date'] = pd.to_datetime({'year': 2016,\n",
    "                                  'month': daily ['Month'],\n",
    "                                  'day':   daily ['Day']})\n",
    "\n",
    "Dsleep['Date'] = pd.to_datetime({'year': 2016,\n",
    "                                  'month': Dsleep['Month'],\n",
    "                                  'day':   Dsleep['Day']})\n",
    "\n",
    "# -------------------------------------------------\n",
    "# 2. Label each row as Weekday (Mon‑Fri) or Weekend (Sat‑Sun)\n",
    "# -------------------------------------------------\n",
    "daily ['DayType'] = daily ['Date'].dt.dayofweek.apply(lambda d: 'Weekend' if d >= 5 else 'Weekday')\n",
    "Dsleep['DayType'] = Dsleep['Date'].dt.dayofweek.apply(lambda d: 'Weekend' if d >= 5 else 'Weekday')\n",
    "\n",
    "# -------------------------------------------------\n",
    "# 3. Merge daily activity and sleep on the same night\n",
    "#    (no shift needed—we want weekday sleep WITH weekday activity)\n",
    "# -------------------------------------------------\n",
    "merged = pd.merge(daily,\n",
    "                  Dsleep[['Id','Date','SleepEfficiency','DayType']],\n",
    "                  on=['Id','Date','DayType'],\n",
    "                  how='inner')\n",
    "\n",
    "# -------------------------------------------------\n",
    "# 4. User‑level averages:\n",
    "#    • mean weekday sleep efficiency\n",
    "#    • mean weekend very‑active minutes\n",
    "# -------------------------------------------------\n",
    "pivot = (merged\n",
    "         .pivot_table(index='Id',\n",
    "                      columns='DayType',\n",
    "                      values=['SleepEfficiency','VeryActiveMinutes'],\n",
    "                      aggfunc='mean'))\n",
    "\n",
    "pivot.columns = ['SleepEff_weekday',\n",
    "                 'SleepEff_weekend',\n",
    "                 'VAMin_weekday',\n",
    "                 'VAMin_weekend']\n",
    "pivot = pivot.reset_index()\n",
    "\n",
    "# -------------------------------------------------\n",
    "# 5. Scatter plot: weekday sleep efficiency vs weekend very‑active minutes\n",
    "# -------------------------------------------------\n",
    "plt.figure(figsize=(6,4))\n",
    "sns.regplot(x='SleepEff_weekday',\n",
    "            y='VAMin_weekend',\n",
    "            data=pivot,\n",
    "            scatter_kws={'alpha':0.7})\n",
    "plt.title('Do Poor Weekday Sleepers Exercise More on Weekends?')\n",
    "plt.xlabel('Average Weekday Sleep Efficiency')\n",
    "plt.ylabel('Average Weekend Very‑Active Minutes')\n",
    "plt.tight_layout(); plt.show()\n",
    "\n",
    "# -------------------------------------------------\n",
    "# 6. Correlation value for your slide caption\n",
    "# -------------------------------------------------\n",
    "corr = pivot[['SleepEff_weekday','VAMin_weekend']].corr().iloc[0,1]\n",
    "print(f\"Correlation (weekday sleep efficiency  vs weekend VAMin): {corr:.2f}\")\n"
   ]
  },
  {
   "cell_type": "markdown",
   "id": "7930d722",
   "metadata": {},
   "source": [
    "3) Hintensity x Hcalories\n",
    "\n",
    "Do higher‑intensity hours (more steps) burn more calories?"
   ]
  },
  {
   "cell_type": "code",
   "execution_count": null,
   "id": "a728779f",
   "metadata": {},
   "outputs": [
    {
     "data": {
      "image/png": "[encoded data removed]",
      "text/plain": [
       "<Figure size 600x400 with 1 Axes>"
      ]
     },
     "metadata": {},
     "output_type": "display_data"
    },
    {
     "name": "stdout",
     "output_type": "stream",
     "text": [
      "Correlation between hourly steps and calories: 0.81\n"
     ]
    }
   ],
   "source": [
    "\n",
    "# 1.  Build a matching hourly timestamp in BOTH tables\n",
    "Hcalories['Datetime'] = pd.to_datetime({'year': 2016,\n",
    "                                        'month': Hcalories['Month'],\n",
    "                                        'day':   Hcalories['Day'],\n",
    "                                        'hour':  Hcalories['Hour']})\n",
    "\n",
    "Hintensity['Datetime'] = pd.to_datetime({'year': 2016,\n",
    "                                         'month': Hintensity['Month'],\n",
    "                                         'day':   Hintensity['Day'],\n",
    "                                         'hour':  Hintensity['Hour']})\n",
    "\n",
    "# 2.  Optional: aggregate in case multiple entries per hour\n",
    "cal_hour = (Hcalories.groupby(['Id','Datetime'])['Calories']\n",
    "                      .sum()\n",
    "                      .reset_index())\n",
    "\n",
    "steps_hour = (Hintensity.groupby(['Id','Datetime'])['StepTotal']\n",
    "                        .sum()\n",
    "                        .reset_index())\n",
    "\n",
    "# 3.  Merge on identical Id + Datetime\n",
    "hourly = pd.merge(cal_hour, steps_hour,\n",
    "                  on=['Id','Datetime'], how='inner')\n",
    "\n",
    "# 4.  Scatter and regression line\n",
    "\n",
    "plt.figure(figsize=(6,4))\n",
    "sns.regplot(x='StepTotal', y='Calories',\n",
    "            data=hourly, scatter_kws={'alpha':0.4})\n",
    "plt.title('Hourly Steps vs Calories Burned')\n",
    "plt.xlabel('Steps in Hour')\n",
    "plt.ylabel('Calories Burned in Hour')\n",
    "plt.tight_layout(); plt.show()\n",
    "\n",
    "# 5.  Correlation coefficient for your report\n",
    "corr = hourly[['StepTotal','Calories']].corr().iloc[0,1]\n",
    "print(f\"Correlation between hourly steps and calories: {corr:.2f}\")\n"
   ]
  }
 ],
 "metadata": {
  "kernelspec": {
   "display_name": "base",
   "language": "python",
   "name": "python3"
  },
  "language_info": {
   "codemirror_mode": {
    "name": "ipython",
    "version": 3
   },
   "file_extension": ".py",
   "mimetype": "text/x-python",
   "name": "python",
   "nbconvert_exporter": "python",
   "pygments_lexer": "ipython3",
   "version": "3.12.4"
  }
 },
 "nbformat": 4,
 "nbformat_minor": 5
}
